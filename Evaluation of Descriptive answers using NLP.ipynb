{
 "cells": [
  {
   "cell_type": "markdown",
   "metadata": {},
   "source": [
    "# Evaluation of Descriptive Answers Using NLP"
   ]
  },
  {
   "cell_type": "markdown",
   "metadata": {},
   "source": [
    "## Problem Statement"
   ]
  },
  {
   "cell_type": "markdown",
   "metadata": {},
   "source": [
    "Our goal is to look at the Original answer and the student answer and note their similarities and differences and give a score or percentage"
   ]
  },
  {
   "cell_type": "markdown",
   "metadata": {},
   "source": [
    "### libraries used:\n",
    "kindly install proper versions and import these while using!\n",
    "* Pandas\n",
    "* spacy\n",
    "* neuralcoref\n",
    "* textblob\n",
    "* re\n",
    "* string\n",
    "* nltk, nltk.stem, nltk.tokenize, nltk.corpus\n",
    "* matplotlib\n",
    "* numpy\n",
    "* sklearn\n"
   ]
  },
  {
   "cell_type": "markdown",
   "metadata": {},
   "source": [
    "### Files to download:\n",
    "Please download the training_data.xlsx and test_data.xlsx from the links given in report and keep in the same folder where this code lies."
   ]
  },
  {
   "cell_type": "markdown",
   "metadata": {},
   "source": [
    "## 1. Getting The Data"
   ]
  },
  {
   "cell_type": "markdown",
   "metadata": {},
   "source": [
    "#### Kindly download the test_data.xlsx from the link given in report and keep it in the same folder where this file lies and add your \n",
    "\n",
    "#### own test cases in it,or change numbers from 0 to 9 to use the test cases we provided. Thanks!"
   ]
  },
  {
   "cell_type": "code",
   "execution_count": 1,
   "metadata": {},
   "outputs": [],
   "source": [
    "import pandas as pd\n",
    "#load the original answer as below, choose number between 0 to 9\n",
    "test_data = pd.read_excel(\"test_data.xlsx\")\n",
    "original_answer_script = test_data[\"original_answer\"][0]\n",
    "\n",
    "#load the student answer as below, choose number between 0 to 9\n",
    "student_answer_script = test_data[\"Student_answer\"][0]\n"
   ]
  },
  {
   "cell_type": "code",
   "execution_count": 2,
   "metadata": {},
   "outputs": [
    {
     "name": "stdout",
     "output_type": "stream",
     "text": [
      "\u001b[1mOriginal Answer\u001b[0m\n",
      "Historiography has a number of related meanings. Firstly, it can refer to how history has been produced: the story of the development of and practices (for example, the move from short-term biographical narrative toward long-term thematic analysis). Secondly, it can refer to what has been produced: a specific body of historical writing (for example, \"medieval historiography during the 1960s\" means \"Works of medieval history written during the 1960s\").Thirdly, it may refer to why history is produced: the philosophy of history. As a meta-level analysis of descriptions of the past, this third conception can relate to the first two in that the analysis usually focuses on the narratives, interpretations, world view, use of evidence, or method of presentation of other historians. Professional historians also debate the question of whether history can be taught as a single coherent narrative or a series of competing narratives.\n",
      "\u001b[1m\n",
      "Student's Answer\u001b[0m\n",
      "History has many relevant implications. First, it may have to do with how history was created: history of development and practice (eg, the transition from short-term biographical stories to long-term thematic analysis). Second, it may refer to what was created: a particular collection of historical works (for example, \"Medieval History of the 1960s\" is \"Works of Medieval History Written in the 1960s\". Means). . As an analysis of the metal level of the past, this third concept is the first two, as the analysis usually focuses on stories, interpretations, worldviews, use of evidence, or  other historian representations. It may be related. Professional historians also argue whether history can be taught as a single coherent story or as a series of competing stories.\n"
     ]
    }
   ],
   "source": [
    "print('\\033[1m'+\"Original Answer\"+'\\033[0m')\n",
    "print(original_answer_script)\n",
    "print('\\033[1m'+\"\\nStudent's Answer\"+'\\033[0m')\n",
    "print(student_answer_script)"
   ]
  },
  {
   "cell_type": "markdown",
   "metadata": {},
   "source": [
    "## 2. Cleaning The Data"
   ]
  },
  {
   "cell_type": "markdown",
   "metadata": {},
   "source": [
    "**Common data cleaning steps on all text:**\n",
    "* Make text all lower case, Remove punctuation, Remove numerical values, Remove common non-sensical text (/n)\n",
    "* coreference resolution, Tokenize text, Remove stop words\n",
    "\n",
    "**More data cleaning steps after tokenization:**\n",
    "* Stemming / lemmatization using pos_tag, Parts of speech tagging\n",
    "* Deal with typos, Replacing synonyms etc\n",
    "\n",
    "**Further high level cleaning techniques like:**\n",
    "* chunking, collocation extraction, Bi - grams.\n",
    "* Relationship extraction, NER etc can be used for more accuracy.\n"
   ]
  },
  {
   "cell_type": "markdown",
   "metadata": {},
   "source": [
    "### 2.1  Inserting Text in DataFrame"
   ]
  },
  {
   "cell_type": "code",
   "execution_count": 3,
   "metadata": {},
   "outputs": [],
   "source": [
    "# We can either keep it in dictionary format or put it into a pandas dataframe\n",
    "import pandas as pd  \n",
    "  \n",
    "# assign data of lists.  \n",
    "data = {'Person': ['Teacher', 'student'], 'text': [original_answer_script, student_answer_script]}  \n",
    "data_df = pd.DataFrame(data) #data_df is unprocessed dataset."
   ]
  },
  {
   "cell_type": "markdown",
   "metadata": {},
   "source": [
    "### 2.2  Coreference Resolution "
   ]
  },
  {
   "cell_type": "code",
   "execution_count": 4,
   "metadata": {},
   "outputs": [
    {
     "name": "stdout",
     "output_type": "stream",
     "text": [
      "\u001b[1mOriginal Answer (Replacing Pronouns with nouns)\u001b[0m\n",
      "Historiography has a number of related meanings. Firstly, it can refer to how history has been produced: the story of the development of and practices (for example, the move from short-term biographical narrative toward long-term thematic analysis). Secondly, it can refer to what has been produced: a specific body of historical writing (for example, \"medieval historiography during the 1960s\" means \"Works of medieval history written during the 1960s\").Thirdly, it may refer to why history is produced: the philosophy of history. As a meta-level analysis of descriptions of the past, this third conception can relate to the first two in that the analysis usually focuses on the narratives, interpretations, world view, use of evidence, or method of presentation of other historians. Professional historians also debate the question of whether history can be taught as a single coherent narrative or a series of competing narratives.\n",
      "\u001b[1m\n",
      "Student Answer (Replacing Pronouns with nouns)\u001b[0m\n",
      "History has many relevant implications. First, it may have to do with how history was created: history of development and practice (eg, the transition from short-term biographical stories to long-term thematic analysis). Second, it may refer to what was created: a particular collection of historical works (for example, \"Medieval History of the 1960s\" is \"Works of Medieval History Written in the 1960s\". Means). . As an analysis of the metal level of the past, this third concept is the first two, as the analysis usually focuses on stories, interpretations, worldviews, use of evidence, or  other historian representations. It may be related. Professional historians also argue whether history can be taught as a single coherent story or as a series of competing stories.\n"
     ]
    }
   ],
   "source": [
    "#corefernce resolution : Replacing pronouns with nouns\n",
    "import neuralcoref\n",
    "import spacy\n",
    "\n",
    "nlp = spacy.load(\"en_core_web_md\") #medium (md) is used due to limited RAM, can use lg(large) for more accuracy.\n",
    "\n",
    "neuralcoref.add_to_pipe(nlp)\n",
    "\n",
    "doc_1 = nlp(original_answer_script)\n",
    "doc_2 = nlp(student_answer_script)\n",
    "\n",
    "original_answer_script = doc_1._.coref_resolved\n",
    "student_answer_script = doc_2._.coref_resolved\n",
    "print('\\033[1m'+\"Original Answer (Replacing Pronouns with nouns)\"+'\\033[0m')\n",
    "print(original_answer_script)\n",
    "print('\\033[1m'+\"\\nStudent Answer (Replacing Pronouns with nouns)\"+'\\033[0m')\n",
    "print(student_answer_script)"
   ]
  },
  {
   "cell_type": "markdown",
   "metadata": {},
   "source": [
    "### 2.3 Removing Punctuations and making the text lower case"
   ]
  },
  {
   "cell_type": "code",
   "execution_count": 5,
   "metadata": {},
   "outputs": [
    {
     "name": "stdout",
     "output_type": "stream",
     "text": [
      "\u001b[1mOriginal Answer (Removing punctuations and all lower case)\u001b[0m\n",
      "historiography has a number of related meanings firstly it can refer to how history has been produced the story of the development of and practices for example the move from shortterm biographical narrative toward longterm thematic analysis secondly it can refer to what has been produced a specific body of historical writing for example medieval historiography during the  means works of medieval history written during the  it may refer to why history is produced the philosophy of history as a metalevel analysis of descriptions of the past this third conception can relate to the first two in that the analysis usually focuses on the narratives interpretations world view use of evidence or method of presentation of other historians professional historians also debate the question of whether history can be taught as a single coherent narrative or a series of competing narratives\n",
      "\u001b[1m\n",
      "Student Answer (Removing punctuations and all lower case)\u001b[0m\n",
      "history has many relevant implications first it may have to do with how history was created history of development and practice eg the transition from shortterm biographical stories to longterm thematic analysis second it may refer to what was created a particular collection of historical works for example medieval history of the  is works of medieval history written in the  means  as an analysis of the metal level of the past this third concept is the first two as the analysis usually focuses on stories interpretations worldviews use of evidence or  other historian representations it may be related professional historians also argue whether history can be taught as a single coherent story or as a series of competing stories\n"
     ]
    }
   ],
   "source": [
    "# Apply a first round of text cleaning techniques\n",
    "import re\n",
    "import string\n",
    "\n",
    "def clean_text_round1(text):\n",
    "    '''Make text lowercase, remove text in square brackets, remove punctuation and remove words containing numbers.'''\n",
    "    text = text.lower()\n",
    "    text = re.sub('\\[.*?\\]', '', text)\n",
    "    text = re.sub('[%s]' % re.escape(string.punctuation), '', text)\n",
    "    text = re.sub('\\w*\\d\\w*', '', text)\n",
    "    text = text.replace(' “' , \" \")\n",
    "    text = text.replace(\"’s \", \" \")\n",
    "    text = text.replace('” ', \" \")\n",
    "    return text\n",
    "    return text\n",
    "\n",
    "text_clean_1 = clean_text_round1(original_answer_script)\n",
    "text_clean_2 = clean_text_round1(student_answer_script)\n",
    "print('\\033[1m'+\"Original Answer (Removing punctuations and all lower case)\"+'\\033[0m')\n",
    "print(text_clean_1)\n",
    "print('\\033[1m'+\"\\nStudent Answer (Removing punctuations and all lower case)\"+'\\033[0m')\n",
    "print(text_clean_2)"
   ]
  },
  {
   "cell_type": "markdown",
   "metadata": {},
   "source": [
    "### 2.4 Fixing Typos and Counting number  of Typos"
   ]
  },
  {
   "cell_type": "code",
   "execution_count": 6,
   "metadata": {},
   "outputs": [
    {
     "name": "stdout",
     "output_type": "stream",
     "text": [
      "\u001b[1mList of typos\u001b[0m\n",
      "['implications'] ['implication']\n",
      "no of typos : \n",
      "1\n",
      "\u001b[1mOriginal Answer (After Fixing typos)\u001b[0m\n",
      "historiography has a number of related meanings firstly it can refer to how history has been produced the story of the development of and practices for example the move from shorter biographical narrative toward longer rheumatic analysis secondly it can refer to what has been produced a specific body of historical writing for example medieval historiography during the  means works of medieval history written during the  it may refer to why history is produced the philosophy of history as a metalevel analysis of descriptions of the past this third conception can relate to the first two in that the analysis usually focused on the narratives interpretations world view use of evidence or method of presentation of other historians professional historians also debate the question of whether history can be taught as a single coherent narrative or a series of competing narratives\n",
      "\u001b[1m\n",
      "Student Answer (After Fixing typos)\u001b[0m\n",
      "history has many relevant implication first it may have to do with how history was created history of development and practice eg the transition from shorter biographical stories to longer rheumatic analysis second it may refer to what was created a particular collection of historical works for example medieval history of the  is works of medieval history written in the  means  as an analysis of the metal level of the past this third concept is the first two as the analysis usually focused on stories interpretations worldviews use of evidence or  other historian representations it may be related professional historians also argue whether history can be taught as a single coherent story or as a series of competing stories\n"
     ]
    }
   ],
   "source": [
    "#fix typos\n",
    "from textblob import TextBlob\n",
    " \n",
    "#correct typos in students answer\n",
    "textBlb = TextBlob(text_clean_2)            \n",
    "text_fixed_typos_2 = textBlb.correct() \n",
    "\n",
    "#correct typos in original answer (typos acc to textblob)\n",
    "textBlb = TextBlob(text_clean_1)            \n",
    "text_fixed_typos_1 = textBlb.correct() \n",
    "\n",
    "# checking the typos not in the original text\n",
    "typos_list = []\n",
    "typos_list_corrected = []\n",
    "wordslist_original = list(text_clean_1.split())\n",
    "wordslist_1 = list(text_clean_2.split())\n",
    "wordslist_2 = list(text_fixed_typos_2.split())\n",
    "\n",
    "for i in range(len(wordslist_1)) :\n",
    "    if wordslist_1[i] != wordslist_2[i] :\n",
    "        if wordslist_1[i] not in wordslist_original :\n",
    "            typos_list.append(wordslist_1[i])\n",
    "            typos_list_corrected.append(wordslist_2[i])\n",
    "\n",
    "typos = len(typos_list)\n",
    "print('\\033[1m'+\"List of typos\"+'\\033[0m')\n",
    "print(typos_list, typos_list_corrected)\n",
    "print(\"no of typos : \")\n",
    "print(typos)\n",
    "cleaned_1 = str(text_fixed_typos_1)\n",
    "cleaned_2 = str(text_fixed_typos_2)\n",
    "print('\\033[1m'+\"Original Answer (After Fixing typos)\"+'\\033[0m')\n",
    "print(cleaned_1)\n",
    "print('\\033[1m'+\"\\nStudent Answer (After Fixing typos)\"+'\\033[0m')\n",
    "print(cleaned_2)"
   ]
  },
  {
   "cell_type": "markdown",
   "metadata": {},
   "source": [
    "### 2.5 Pos Tagging"
   ]
  },
  {
   "cell_type": "code",
   "execution_count": 7,
   "metadata": {},
   "outputs": [
    {
     "data": {
      "text/html": [
       "<div>\n",
       "<style scoped>\n",
       "    .dataframe tbody tr th:only-of-type {\n",
       "        vertical-align: middle;\n",
       "    }\n",
       "\n",
       "    .dataframe tbody tr th {\n",
       "        vertical-align: top;\n",
       "    }\n",
       "\n",
       "    .dataframe thead th {\n",
       "        text-align: right;\n",
       "    }\n",
       "</style>\n",
       "<table border=\"1\" class=\"dataframe\">\n",
       "  <thead>\n",
       "    <tr style=\"text-align: right;\">\n",
       "      <th></th>\n",
       "      <th>Person</th>\n",
       "      <th>text</th>\n",
       "    </tr>\n",
       "  </thead>\n",
       "  <tbody>\n",
       "    <tr>\n",
       "      <th>0</th>\n",
       "      <td>Teacher</td>\n",
       "      <td>[(historiography, n), (has, v), (a, None), (nu...</td>\n",
       "    </tr>\n",
       "    <tr>\n",
       "      <th>1</th>\n",
       "      <td>student</td>\n",
       "      <td>[(history, n), (has, v), (many, a), (relevant,...</td>\n",
       "    </tr>\n",
       "  </tbody>\n",
       "</table>\n",
       "</div>"
      ],
      "text/plain": [
       "    Person                                               text\n",
       "0  Teacher  [(historiography, n), (has, v), (a, None), (nu...\n",
       "1  student  [(history, n), (has, v), (many, a), (relevant,..."
      ]
     },
     "execution_count": 7,
     "metadata": {},
     "output_type": "execute_result"
    }
   ],
   "source": [
    "#pos tagging\n",
    " \n",
    "# Define function to lemmatize each word with its POS tag\n",
    "import nltk\n",
    "import nltk.corpus\n",
    "from nltk.tokenize import word_tokenize\n",
    "from nltk.corpus import wordnet\n",
    "\n",
    "# POS_TAGGER_FUNCTION \n",
    "def pos_tagger(nltk_tag):\n",
    "    if nltk_tag.startswith('J'):\n",
    "        return wordnet.ADJ\n",
    "    elif nltk_tag.startswith('V'):\n",
    "        return wordnet.VERB\n",
    "    elif nltk_tag.startswith('N'):\n",
    "        return wordnet.NOUN\n",
    "    elif nltk_tag.startswith('R'):\n",
    "        return wordnet.ADV\n",
    "    else:         \n",
    "        return None\n",
    "    \n",
    "\n",
    "# tokenize the sentence and find the POS tag for each token\n",
    "pos_tagged_1 = nltk.pos_tag(nltk.word_tokenize(cleaned_1))\n",
    "pos_tagged_2 = nltk.pos_tag(nltk.word_tokenize(cleaned_2))\n",
    " \n",
    "# the above pos tags are a little confusing.\n",
    " \n",
    "# we can use our own pos_tagger function to make things simpler to understand.\n",
    "wordnet_tagged_1 = list(map(lambda x: (x[0], pos_tagger(x[1])), pos_tagged_1))\n",
    "wordnet_tagged_2 = list(map(lambda x: (x[0], pos_tagger(x[1])), pos_tagged_2))\n",
    "\n",
    "data_tagged = {'Person': ['Teacher', 'student'], 'text': [wordnet_tagged_1, wordnet_tagged_2]}  \n",
    "data_df_tagged = pd.DataFrame(data_tagged) \n",
    "data_df_tagged"
   ]
  },
  {
   "cell_type": "markdown",
   "metadata": {},
   "source": [
    "### 2.6 Lemmatization"
   ]
  },
  {
   "cell_type": "code",
   "execution_count": 8,
   "metadata": {},
   "outputs": [
    {
     "data": {
      "text/html": [
       "<div>\n",
       "<style scoped>\n",
       "    .dataframe tbody tr th:only-of-type {\n",
       "        vertical-align: middle;\n",
       "    }\n",
       "\n",
       "    .dataframe tbody tr th {\n",
       "        vertical-align: top;\n",
       "    }\n",
       "\n",
       "    .dataframe thead th {\n",
       "        text-align: right;\n",
       "    }\n",
       "</style>\n",
       "<table border=\"1\" class=\"dataframe\">\n",
       "  <thead>\n",
       "    <tr style=\"text-align: right;\">\n",
       "      <th></th>\n",
       "      <th>Person</th>\n",
       "      <th>text</th>\n",
       "    </tr>\n",
       "  </thead>\n",
       "  <tbody>\n",
       "    <tr>\n",
       "      <th>0</th>\n",
       "      <td>Teacher</td>\n",
       "      <td>historiography have a number of related meanin...</td>\n",
       "    </tr>\n",
       "    <tr>\n",
       "      <th>1</th>\n",
       "      <td>student</td>\n",
       "      <td>history have many relevant implication first i...</td>\n",
       "    </tr>\n",
       "  </tbody>\n",
       "</table>\n",
       "</div>"
      ],
      "text/plain": [
       "    Person                                               text\n",
       "0  Teacher  historiography have a number of related meanin...\n",
       "1  student  history have many relevant implication first i..."
      ]
     },
     "execution_count": 8,
     "metadata": {},
     "output_type": "execute_result"
    }
   ],
   "source": [
    "#lemmatization\n",
    "from nltk.stem import WordNetLemmatizer\n",
    " \n",
    "lemmatizer = WordNetLemmatizer()\n",
    " \n",
    "lemmatized_text_1 = []\n",
    "lemmatized_text_2 = []\n",
    "\n",
    "\n",
    "for word, tag in wordnet_tagged_1:\n",
    "    if tag is None:\n",
    "        # if there is no available tag, append the token as is\n",
    "        lemmatized_text_1.append(word)\n",
    "    else:       \n",
    "        # else use the tag to lemmatize the token\n",
    "        lemmatized_text_1.append(lemmatizer.lemmatize(word, tag))\n",
    "lemmatized_text_1 = \" \".join(lemmatized_text_1)\n",
    "\n",
    "for word, tag in wordnet_tagged_2:\n",
    "    if tag is None:\n",
    "        # if there is no available tag, append the token as is\n",
    "        lemmatized_text_2.append(word)\n",
    "    else:       \n",
    "        # else use the tag to lemmatize the token\n",
    "        lemmatized_text_2.append(lemmatizer.lemmatize(word, tag))\n",
    "lemmatized_text_2 = \" \".join(lemmatized_text_2)\n",
    " \n",
    "data_lemmatized = {'Person': ['Teacher', 'student'], 'text': [lemmatized_text_1, lemmatized_text_2]}  \n",
    "data_df_lemmatized = pd.DataFrame(data_lemmatized) \n",
    "data_df_lemmatized"
   ]
  },
  {
   "cell_type": "markdown",
   "metadata": {},
   "source": [
    "### 2.7 Replace synonyms with original words "
   ]
  },
  {
   "cell_type": "code",
   "execution_count": 9,
   "metadata": {},
   "outputs": [
    {
     "name": "stdout",
     "output_type": "stream",
     "text": [
      "relate related\n",
      "['historiography', 'have', 'a', 'number', 'of', 'related', 'meaning', 'firstly', 'it', 'can', 'refer', 'to', 'how', 'history', 'have', 'be', 'produce', 'the', 'story', 'of', 'the', 'development', 'of', 'and', 'practice', 'for', 'example', 'the', 'move', 'from', 'short', 'biographical', 'narrative', 'toward', 'longer', 'rheumatic', 'analysis', 'secondly', 'it', 'can', 'refer', 'to', 'what', 'have', 'be', 'produce', 'a', 'specific', 'body', 'of', 'historical', 'writing', 'for', 'example', 'medieval', 'historiography', 'during', 'the', 'mean', 'work', 'of', 'medieval', 'history', 'write', 'during', 'the', 'it', 'may', 'refer', 'to', 'why', 'history', 'be', 'produce', 'the', 'philosophy', 'of', 'history', 'as', 'a', 'metalevel', 'analysis', 'of', 'description', 'of', 'the', 'past', 'this', 'third', 'conception', 'can', 'related', 'to', 'the', 'first', 'two', 'in', 'that', 'the', 'analysis', 'usually', 'focus', 'on', 'the', 'narrative', 'interpretation', 'world', 'view', 'use', 'of', 'evidence', 'or', 'method', 'of', 'presentation', 'of', 'other', 'historian', 'professional', 'historian', 'also', 'debate', 'the', 'question', 'of', 'whether', 'history', 'can', 'be', 'teach', 'as', 'a', 'single', 'coherent', 'narrative', 'or', 'a', 'series', 'of', 'compete', 'narrative']\n",
      "refer related\n",
      "['historiography', 'have', 'a', 'number', 'of', 'related', 'meaning', 'firstly', 'it', 'can', 'related', 'to', 'how', 'history', 'have', 'be', 'produce', 'the', 'story', 'of', 'the', 'development', 'of', 'and', 'practice', 'for', 'example', 'the', 'move', 'from', 'short', 'biographical', 'narrative', 'toward', 'longer', 'rheumatic', 'analysis', 'secondly', 'it', 'can', 'refer', 'to', 'what', 'have', 'be', 'produce', 'a', 'specific', 'body', 'of', 'historical', 'writing', 'for', 'example', 'medieval', 'historiography', 'during', 'the', 'mean', 'work', 'of', 'medieval', 'history', 'write', 'during', 'the', 'it', 'may', 'refer', 'to', 'why', 'history', 'be', 'produce', 'the', 'philosophy', 'of', 'history', 'as', 'a', 'metalevel', 'analysis', 'of', 'description', 'of', 'the', 'past', 'this', 'third', 'conception', 'can', 'related', 'to', 'the', 'first', 'two', 'in', 'that', 'the', 'analysis', 'usually', 'focus', 'on', 'the', 'narrative', 'interpretation', 'world', 'view', 'use', 'of', 'evidence', 'or', 'method', 'of', 'presentation', 'of', 'other', 'historian', 'professional', 'historian', 'also', 'debate', 'the', 'question', 'of', 'whether', 'history', 'can', 'be', 'teach', 'as', 'a', 'single', 'coherent', 'narrative', 'or', 'a', 'series', 'of', 'compete', 'narrative']\n",
      "refer related\n",
      "['historiography', 'have', 'a', 'number', 'of', 'related', 'meaning', 'firstly', 'it', 'can', 'related', 'to', 'how', 'history', 'have', 'be', 'produce', 'the', 'story', 'of', 'the', 'development', 'of', 'and', 'practice', 'for', 'example', 'the', 'move', 'from', 'short', 'biographical', 'narrative', 'toward', 'longer', 'rheumatic', 'analysis', 'secondly', 'it', 'can', 'related', 'to', 'what', 'have', 'be', 'produce', 'a', 'specific', 'body', 'of', 'historical', 'writing', 'for', 'example', 'medieval', 'historiography', 'during', 'the', 'mean', 'work', 'of', 'medieval', 'history', 'write', 'during', 'the', 'it', 'may', 'refer', 'to', 'why', 'history', 'be', 'produce', 'the', 'philosophy', 'of', 'history', 'as', 'a', 'metalevel', 'analysis', 'of', 'description', 'of', 'the', 'past', 'this', 'third', 'conception', 'can', 'related', 'to', 'the', 'first', 'two', 'in', 'that', 'the', 'analysis', 'usually', 'focus', 'on', 'the', 'narrative', 'interpretation', 'world', 'view', 'use', 'of', 'evidence', 'or', 'method', 'of', 'presentation', 'of', 'other', 'historian', 'professional', 'historian', 'also', 'debate', 'the', 'question', 'of', 'whether', 'history', 'can', 'be', 'teach', 'as', 'a', 'single', 'coherent', 'narrative', 'or', 'a', 'series', 'of', 'compete', 'narrative']\n",
      "refer related\n",
      "['historiography', 'have', 'a', 'number', 'of', 'related', 'meaning', 'firstly', 'it', 'can', 'related', 'to', 'how', 'history', 'have', 'be', 'produce', 'the', 'story', 'of', 'the', 'development', 'of', 'and', 'practice', 'for', 'example', 'the', 'move', 'from', 'short', 'biographical', 'narrative', 'toward', 'longer', 'rheumatic', 'analysis', 'secondly', 'it', 'can', 'related', 'to', 'what', 'have', 'be', 'produce', 'a', 'specific', 'body', 'of', 'historical', 'writing', 'for', 'example', 'medieval', 'historiography', 'during', 'the', 'mean', 'work', 'of', 'medieval', 'history', 'write', 'during', 'the', 'it', 'may', 'related', 'to', 'why', 'history', 'be', 'produce', 'the', 'philosophy', 'of', 'history', 'as', 'a', 'metalevel', 'analysis', 'of', 'description', 'of', 'the', 'past', 'this', 'third', 'conception', 'can', 'related', 'to', 'the', 'first', 'two', 'in', 'that', 'the', 'analysis', 'usually', 'focus', 'on', 'the', 'narrative', 'interpretation', 'world', 'view', 'use', 'of', 'evidence', 'or', 'method', 'of', 'presentation', 'of', 'other', 'historian', 'professional', 'historian', 'also', 'debate', 'the', 'question', 'of', 'whether', 'history', 'can', 'be', 'teach', 'as', 'a', 'single', 'coherent', 'narrative', 'or', 'a', 'series', 'of', 'compete', 'narrative']\n",
      "mean meaning\n",
      "['historiography', 'have', 'a', 'number', 'of', 'related', 'meaning', 'firstly', 'it', 'can', 'related', 'to', 'how', 'history', 'have', 'be', 'produce', 'the', 'story', 'of', 'the', 'development', 'of', 'and', 'practice', 'for', 'example', 'the', 'move', 'from', 'short', 'biographical', 'narrative', 'toward', 'longer', 'rheumatic', 'analysis', 'secondly', 'it', 'can', 'related', 'to', 'what', 'have', 'be', 'produce', 'a', 'specific', 'body', 'of', 'historical', 'writing', 'for', 'example', 'medieval', 'historiography', 'during', 'the', 'meaning', 'work', 'of', 'medieval', 'history', 'write', 'during', 'the', 'it', 'may', 'related', 'to', 'why', 'history', 'be', 'produce', 'the', 'philosophy', 'of', 'history', 'as', 'a', 'metalevel', 'analysis', 'of', 'description', 'of', 'the', 'past', 'this', 'third', 'conception', 'can', 'related', 'to', 'the', 'first', 'two', 'in', 'that', 'the', 'analysis', 'usually', 'focus', 'on', 'the', 'narrative', 'interpretation', 'world', 'view', 'use', 'of', 'evidence', 'or', 'method', 'of', 'presentation', 'of', 'other', 'historian', 'professional', 'historian', 'also', 'debate', 'the', 'question', 'of', 'whether', 'history', 'can', 'be', 'teach', 'as', 'a', 'single', 'coherent', 'narrative', 'or', 'a', 'series', 'of', 'compete', 'narrative']\n",
      "first firstly\n",
      "['historiography', 'have', 'a', 'number', 'of', 'related', 'meaning', 'firstly', 'it', 'can', 'related', 'to', 'how', 'history', 'have', 'be', 'produce', 'the', 'story', 'of', 'the', 'development', 'of', 'and', 'practice', 'for', 'example', 'the', 'move', 'from', 'short', 'biographical', 'narrative', 'toward', 'longer', 'rheumatic', 'analysis', 'secondly', 'it', 'can', 'related', 'to', 'what', 'have', 'be', 'produce', 'a', 'specific', 'body', 'of', 'historical', 'writing', 'for', 'example', 'medieval', 'historiography', 'during', 'the', 'meaning', 'work', 'of', 'medieval', 'history', 'write', 'during', 'the', 'it', 'may', 'related', 'to', 'why', 'history', 'be', 'produce', 'the', 'philosophy', 'of', 'history', 'as', 'a', 'metalevel', 'analysis', 'of', 'description', 'of', 'the', 'past', 'this', 'third', 'conception', 'can', 'related', 'to', 'the', 'firstly', 'two', 'in', 'that', 'the', 'analysis', 'usually', 'focus', 'on', 'the', 'narrative', 'interpretation', 'world', 'view', 'use', 'of', 'evidence', 'or', 'method', 'of', 'presentation', 'of', 'other', 'historian', 'professional', 'historian', 'also', 'debate', 'the', 'question', 'of', 'whether', 'history', 'can', 'be', 'teach', 'as', 'a', 'single', 'coherent', 'narrative', 'or', 'a', 'series', 'of', 'compete', 'narrative']\n",
      "story history\n",
      "['historiography', 'have', 'a', 'number', 'of', 'related', 'meaning', 'firstly', 'it', 'can', 'related', 'to', 'how', 'history', 'have', 'be', 'produce', 'the', 'history', 'of', 'the', 'development', 'of', 'and', 'practice', 'for', 'example', 'the', 'move', 'from', 'short', 'biographical', 'narrative', 'toward', 'longer', 'rheumatic', 'analysis', 'secondly', 'it', 'can', 'related', 'to', 'what', 'have', 'be', 'produce', 'a', 'specific', 'body', 'of', 'historical', 'writing', 'for', 'example', 'medieval', 'historiography', 'during', 'the', 'meaning', 'work', 'of', 'medieval', 'history', 'write', 'during', 'the', 'it', 'may', 'related', 'to', 'why', 'history', 'be', 'produce', 'the', 'philosophy', 'of', 'history', 'as', 'a', 'metalevel', 'analysis', 'of', 'description', 'of', 'the', 'past', 'this', 'third', 'conception', 'can', 'related', 'to', 'the', 'firstly', 'two', 'in', 'that', 'the', 'analysis', 'usually', 'focus', 'on', 'the', 'narrative', 'interpretation', 'world', 'view', 'use', 'of', 'evidence', 'or', 'method', 'of', 'presentation', 'of', 'other', 'historian', 'professional', 'historian', 'also', 'debate', 'the', 'question', 'of', 'whether', 'history', 'can', 'be', 'teach', 'as', 'a', 'single', 'coherent', 'narrative', 'or', 'a', 'series', 'of', 'compete', 'narrative']\n",
      "use practice\n",
      "['historiography', 'have', 'a', 'number', 'of', 'related', 'meaning', 'firstly', 'it', 'can', 'related', 'to', 'how', 'history', 'have', 'be', 'produce', 'the', 'history', 'of', 'the', 'development', 'of', 'and', 'practice', 'for', 'example', 'the', 'move', 'from', 'short', 'biographical', 'narrative', 'toward', 'longer', 'rheumatic', 'analysis', 'secondly', 'it', 'can', 'related', 'to', 'what', 'have', 'be', 'produce', 'a', 'specific', 'body', 'of', 'historical', 'writing', 'for', 'example', 'medieval', 'historiography', 'during', 'the', 'meaning', 'work', 'of', 'medieval', 'history', 'write', 'during', 'the', 'it', 'may', 'related', 'to', 'why', 'history', 'be', 'produce', 'the', 'philosophy', 'of', 'history', 'as', 'a', 'metalevel', 'analysis', 'of', 'description', 'of', 'the', 'past', 'this', 'third', 'conception', 'can', 'related', 'to', 'the', 'firstly', 'two', 'in', 'that', 'the', 'analysis', 'usually', 'focus', 'on', 'the', 'narrative', 'interpretation', 'world', 'view', 'practice', 'of', 'evidence', 'or', 'method', 'of', 'presentation', 'of', 'other', 'historian', 'professional', 'historian', 'also', 'debate', 'the', 'question', 'of', 'whether', 'history', 'can', 'be', 'teach', 'as', 'a', 'single', 'coherent', 'narrative', 'or', 'a', 'series', 'of', 'compete', 'narrative']\n",
      "write writing\n",
      "['historiography', 'have', 'a', 'number', 'of', 'related', 'meaning', 'firstly', 'it', 'can', 'related', 'to', 'how', 'history', 'have', 'be', 'produce', 'the', 'history', 'of', 'the', 'development', 'of', 'and', 'practice', 'for', 'example', 'the', 'move', 'from', 'short', 'biographical', 'narrative', 'toward', 'longer', 'rheumatic', 'analysis', 'secondly', 'it', 'can', 'related', 'to', 'what', 'have', 'be', 'produce', 'a', 'specific', 'body', 'of', 'historical', 'writing', 'for', 'example', 'medieval', 'historiography', 'during', 'the', 'meaning', 'work', 'of', 'medieval', 'history', 'writing', 'during', 'the', 'it', 'may', 'related', 'to', 'why', 'history', 'be', 'produce', 'the', 'philosophy', 'of', 'history', 'as', 'a', 'metalevel', 'analysis', 'of', 'description', 'of', 'the', 'past', 'this', 'third', 'conception', 'can', 'related', 'to', 'the', 'firstly', 'two', 'in', 'that', 'the', 'analysis', 'usually', 'focus', 'on', 'the', 'narrative', 'interpretation', 'world', 'view', 'practice', 'of', 'evidence', 'or', 'method', 'of', 'presentation', 'of', 'other', 'historian', 'professional', 'historian', 'also', 'debate', 'the', 'question', 'of', 'whether', 'history', 'can', 'be', 'teach', 'as', 'a', 'single', 'coherent', 'narrative', 'or', 'a', 'series', 'of', 'compete', 'narrative']\n",
      "a as\n",
      "['historiography', 'have', 'as', 'number', 'of', 'related', 'meaning', 'firstly', 'it', 'can', 'related', 'to', 'how', 'history', 'have', 'be', 'produce', 'the', 'history', 'of', 'the', 'development', 'of', 'and', 'practice', 'for', 'example', 'the', 'move', 'from', 'short', 'biographical', 'narrative', 'toward', 'longer', 'rheumatic', 'analysis', 'secondly', 'it', 'can', 'related', 'to', 'what', 'have', 'be', 'produce', 'a', 'specific', 'body', 'of', 'historical', 'writing', 'for', 'example', 'medieval', 'historiography', 'during', 'the', 'meaning', 'work', 'of', 'medieval', 'history', 'writing', 'during', 'the', 'it', 'may', 'related', 'to', 'why', 'history', 'be', 'produce', 'the', 'philosophy', 'of', 'history', 'as', 'a', 'metalevel', 'analysis', 'of', 'description', 'of', 'the', 'past', 'this', 'third', 'conception', 'can', 'related', 'to', 'the', 'firstly', 'two', 'in', 'that', 'the', 'analysis', 'usually', 'focus', 'on', 'the', 'narrative', 'interpretation', 'world', 'view', 'practice', 'of', 'evidence', 'or', 'method', 'of', 'presentation', 'of', 'other', 'historian', 'professional', 'historian', 'also', 'debate', 'the', 'question', 'of', 'whether', 'history', 'can', 'be', 'teach', 'as', 'a', 'single', 'coherent', 'narrative', 'or', 'a', 'series', 'of', 'compete', 'narrative']\n",
      "a as\n",
      "['historiography', 'have', 'as', 'number', 'of', 'related', 'meaning', 'firstly', 'it', 'can', 'related', 'to', 'how', 'history', 'have', 'be', 'produce', 'the', 'history', 'of', 'the', 'development', 'of', 'and', 'practice', 'for', 'example', 'the', 'move', 'from', 'short', 'biographical', 'narrative', 'toward', 'longer', 'rheumatic', 'analysis', 'secondly', 'it', 'can', 'related', 'to', 'what', 'have', 'be', 'produce', 'as', 'specific', 'body', 'of', 'historical', 'writing', 'for', 'example', 'medieval', 'historiography', 'during', 'the', 'meaning', 'work', 'of', 'medieval', 'history', 'writing', 'during', 'the', 'it', 'may', 'related', 'to', 'why', 'history', 'be', 'produce', 'the', 'philosophy', 'of', 'history', 'as', 'a', 'metalevel', 'analysis', 'of', 'description', 'of', 'the', 'past', 'this', 'third', 'conception', 'can', 'related', 'to', 'the', 'firstly', 'two', 'in', 'that', 'the', 'analysis', 'usually', 'focus', 'on', 'the', 'narrative', 'interpretation', 'world', 'view', 'practice', 'of', 'evidence', 'or', 'method', 'of', 'presentation', 'of', 'other', 'historian', 'professional', 'historian', 'also', 'debate', 'the', 'question', 'of', 'whether', 'history', 'can', 'be', 'teach', 'as', 'a', 'single', 'coherent', 'narrative', 'or', 'a', 'series', 'of', 'compete', 'narrative']\n",
      "a as\n",
      "['historiography', 'have', 'as', 'number', 'of', 'related', 'meaning', 'firstly', 'it', 'can', 'related', 'to', 'how', 'history', 'have', 'be', 'produce', 'the', 'history', 'of', 'the', 'development', 'of', 'and', 'practice', 'for', 'example', 'the', 'move', 'from', 'short', 'biographical', 'narrative', 'toward', 'longer', 'rheumatic', 'analysis', 'secondly', 'it', 'can', 'related', 'to', 'what', 'have', 'be', 'produce', 'as', 'specific', 'body', 'of', 'historical', 'writing', 'for', 'example', 'medieval', 'historiography', 'during', 'the', 'meaning', 'work', 'of', 'medieval', 'history', 'writing', 'during', 'the', 'it', 'may', 'related', 'to', 'why', 'history', 'be', 'produce', 'the', 'philosophy', 'of', 'history', 'as', 'as', 'metalevel', 'analysis', 'of', 'description', 'of', 'the', 'past', 'this', 'third', 'conception', 'can', 'related', 'to', 'the', 'firstly', 'two', 'in', 'that', 'the', 'analysis', 'usually', 'focus', 'on', 'the', 'narrative', 'interpretation', 'world', 'view', 'practice', 'of', 'evidence', 'or', 'method', 'of', 'presentation', 'of', 'other', 'historian', 'professional', 'historian', 'also', 'debate', 'the', 'question', 'of', 'whether', 'history', 'can', 'be', 'teach', 'as', 'a', 'single', 'coherent', 'narrative', 'or', 'a', 'series', 'of', 'compete', 'narrative']\n",
      "a as\n",
      "['historiography', 'have', 'as', 'number', 'of', 'related', 'meaning', 'firstly', 'it', 'can', 'related', 'to', 'how', 'history', 'have', 'be', 'produce', 'the', 'history', 'of', 'the', 'development', 'of', 'and', 'practice', 'for', 'example', 'the', 'move', 'from', 'short', 'biographical', 'narrative', 'toward', 'longer', 'rheumatic', 'analysis', 'secondly', 'it', 'can', 'related', 'to', 'what', 'have', 'be', 'produce', 'as', 'specific', 'body', 'of', 'historical', 'writing', 'for', 'example', 'medieval', 'historiography', 'during', 'the', 'meaning', 'work', 'of', 'medieval', 'history', 'writing', 'during', 'the', 'it', 'may', 'related', 'to', 'why', 'history', 'be', 'produce', 'the', 'philosophy', 'of', 'history', 'as', 'as', 'metalevel', 'analysis', 'of', 'description', 'of', 'the', 'past', 'this', 'third', 'conception', 'can', 'related', 'to', 'the', 'firstly', 'two', 'in', 'that', 'the', 'analysis', 'usually', 'focus', 'on', 'the', 'narrative', 'interpretation', 'world', 'view', 'practice', 'of', 'evidence', 'or', 'method', 'of', 'presentation', 'of', 'other', 'historian', 'professional', 'historian', 'also', 'debate', 'the', 'question', 'of', 'whether', 'history', 'can', 'be', 'teach', 'as', 'as', 'single', 'coherent', 'narrative', 'or', 'a', 'series', 'of', 'compete', 'narrative']\n",
      "a as\n",
      "['historiography', 'have', 'as', 'number', 'of', 'related', 'meaning', 'firstly', 'it', 'can', 'related', 'to', 'how', 'history', 'have', 'be', 'produce', 'the', 'history', 'of', 'the', 'development', 'of', 'and', 'practice', 'for', 'example', 'the', 'move', 'from', 'short', 'biographical', 'narrative', 'toward', 'longer', 'rheumatic', 'analysis', 'secondly', 'it', 'can', 'related', 'to', 'what', 'have', 'be', 'produce', 'as', 'specific', 'body', 'of', 'historical', 'writing', 'for', 'example', 'medieval', 'historiography', 'during', 'the', 'meaning', 'work', 'of', 'medieval', 'history', 'writing', 'during', 'the', 'it', 'may', 'related', 'to', 'why', 'history', 'be', 'produce', 'the', 'philosophy', 'of', 'history', 'as', 'as', 'metalevel', 'analysis', 'of', 'description', 'of', 'the', 'past', 'this', 'third', 'conception', 'can', 'related', 'to', 'the', 'firstly', 'two', 'in', 'that', 'the', 'analysis', 'usually', 'focus', 'on', 'the', 'narrative', 'interpretation', 'world', 'view', 'practice', 'of', 'evidence', 'or', 'method', 'of', 'presentation', 'of', 'other', 'historian', 'professional', 'historian', 'also', 'debate', 'the', 'question', 'of', 'whether', 'history', 'can', 'be', 'teach', 'as', 'as', 'single', 'coherent', 'narrative', 'or', 'as', 'series', 'of', 'compete', 'narrative']\n"
     ]
    },
    {
     "name": "stdout",
     "output_type": "stream",
     "text": [
      "['history', 'have', 'many', 'relevant', 'implication', 'first', 'it', 'may', 'have', 'to', 'do', 'with', 'how', 'history', 'be', 'create', 'history', 'of', 'development', 'and', 'practice', 'eg', 'the', 'transition', 'from', 'short', 'biographical', 'story', 'to', 'longer', 'rheumatic', 'analysis', 'second', 'it', 'may', 'refer', 'to', 'what', 'be', 'create', 'as', 'particular', 'collection', 'of', 'historical', 'work', 'for', 'example', 'medieval', 'history', 'of', 'the', 'be', 'work', 'of', 'medieval', 'history', 'write', 'in', 'the', 'mean', 'as', 'an', 'analysis', 'of', 'the', 'metal', 'level', 'of', 'the', 'past', 'this', 'third', 'concept', 'be', 'the', 'first', 'two', 'as', 'the', 'analysis', 'usually', 'focus', 'on', 'story', 'interpretation', 'worldviews', 'use', 'of', 'evidence', 'or', 'other', 'historian', 'representation', 'it', 'may', 'be', 'relate', 'professional', 'historian', 'also', 'argue', 'whether', 'history', 'can', 'be', 'teach', 'as', 'a', 'single', 'coherent', 'story', 'or', 'as', 'a', 'series', 'of', 'compete', 'story']\n",
      "['history', 'have', 'many', 'relevant', 'implication', 'first', 'it', 'may', 'have', 'to', 'do', 'with', 'how', 'history', 'be', 'create', 'history', 'of', 'development', 'and', 'practice', 'eg', 'the', 'transition', 'from', 'short', 'biographical', 'story', 'to', 'longer', 'rheumatic', 'analysis', 'second', 'it', 'may', 'refer', 'to', 'what', 'be', 'create', 'as', 'particular', 'collection', 'of', 'historical', 'work', 'for', 'example', 'medieval', 'history', 'of', 'the', 'be', 'work', 'of', 'medieval', 'history', 'write', 'in', 'the', 'mean', 'as', 'an', 'analysis', 'of', 'the', 'metal', 'level', 'of', 'the', 'past', 'this', 'third', 'concept', 'be', 'the', 'first', 'two', 'as', 'the', 'analysis', 'usually', 'focus', 'on', 'story', 'interpretation', 'worldviews', 'use', 'of', 'evidence', 'or', 'other', 'historian', 'representation', 'it', 'may', 'be', 'relate', 'professional', 'historian', 'also', 'argue', 'whether', 'history', 'can', 'be', 'teach', 'as', 'as', 'single', 'coherent', 'story', 'or', 'as', 'a', 'series', 'of', 'compete', 'story']\n",
      "['history', 'have', 'many', 'relevant', 'implication', 'first', 'it', 'may', 'have', 'to', 'do', 'with', 'how', 'history', 'be', 'create', 'history', 'of', 'development', 'and', 'practice', 'eg', 'the', 'transition', 'from', 'short', 'biographical', 'story', 'to', 'longer', 'rheumatic', 'analysis', 'second', 'it', 'may', 'refer', 'to', 'what', 'be', 'create', 'as', 'particular', 'collection', 'of', 'historical', 'work', 'for', 'example', 'medieval', 'history', 'of', 'the', 'be', 'work', 'of', 'medieval', 'history', 'write', 'in', 'the', 'mean', 'as', 'an', 'analysis', 'of', 'the', 'metal', 'level', 'of', 'the', 'past', 'this', 'third', 'concept', 'be', 'the', 'first', 'two', 'as', 'the', 'analysis', 'usually', 'focus', 'on', 'story', 'interpretation', 'worldviews', 'use', 'of', 'evidence', 'or', 'other', 'historian', 'representation', 'it', 'may', 'be', 'relate', 'professional', 'historian', 'also', 'argue', 'whether', 'history', 'can', 'be', 'teach', 'as', 'as', 'single', 'coherent', 'story', 'or', 'as', 'as', 'series', 'of', 'compete', 'story']\n",
      "['history', 'have', 'many', 'relevant', 'implication', 'first', 'it', 'may', 'have', 'to', 'do', 'with', 'how', 'history', 'be', 'create', 'history', 'of', 'development', 'and', 'practice', 'eg', 'the', 'transition', 'from', 'short', 'biographical', 'story', 'to', 'longer', 'rheumatic', 'analysis', 'second', 'it', 'may', 'refer', 'to', 'what', 'be', 'create', 'as', 'particular', 'collection', 'of', 'historical', 'work', 'for', 'example', 'medieval', 'history', 'of', 'the', 'be', 'work', 'of', 'medieval', 'history', 'write', 'in', 'the', 'mean', 'as', 'an', 'analysis', 'of', 'the', 'metal', 'level', 'of', 'the', 'past', 'this', 'third', 'concept', 'be', 'the', 'first', 'two', 'as', 'the', 'analysis', 'usually', 'focus', 'on', 'story', 'interpretation', 'worldviews', 'use', 'of', 'evidence', 'or', 'other', 'historian', 'representation', 'it', 'may', 'be', 'related', 'professional', 'historian', 'also', 'argue', 'whether', 'history', 'can', 'be', 'teach', 'as', 'as', 'single', 'coherent', 'story', 'or', 'as', 'as', 'series', 'of', 'compete', 'story']\n",
      "['history', 'have', 'many', 'relevant', 'implication', 'first', 'it', 'may', 'have', 'to', 'do', 'with', 'how', 'history', 'be', 'create', 'history', 'of', 'development', 'and', 'practice', 'eg', 'the', 'transition', 'from', 'short', 'biographical', 'story', 'to', 'longer', 'rheumatic', 'analysis', 'second', 'it', 'may', 'related', 'to', 'what', 'be', 'create', 'as', 'particular', 'collection', 'of', 'historical', 'work', 'for', 'example', 'medieval', 'history', 'of', 'the', 'be', 'work', 'of', 'medieval', 'history', 'write', 'in', 'the', 'mean', 'as', 'an', 'analysis', 'of', 'the', 'metal', 'level', 'of', 'the', 'past', 'this', 'third', 'concept', 'be', 'the', 'first', 'two', 'as', 'the', 'analysis', 'usually', 'focus', 'on', 'story', 'interpretation', 'worldviews', 'use', 'of', 'evidence', 'or', 'other', 'historian', 'representation', 'it', 'may', 'be', 'related', 'professional', 'historian', 'also', 'argue', 'whether', 'history', 'can', 'be', 'teach', 'as', 'as', 'single', 'coherent', 'story', 'or', 'as', 'as', 'series', 'of', 'compete', 'story']\n",
      "['history', 'have', 'many', 'relevant', 'implication', 'first', 'it', 'may', 'have', 'to', 'do', 'with', 'how', 'history', 'be', 'create', 'history', 'of', 'development', 'and', 'practice', 'eg', 'the', 'transition', 'from', 'short', 'biographical', 'story', 'to', 'longer', 'rheumatic', 'analysis', 'second', 'it', 'may', 'related', 'to', 'what', 'be', 'create', 'as', 'particular', 'collection', 'of', 'historical', 'work', 'for', 'example', 'medieval', 'history', 'of', 'the', 'be', 'work', 'of', 'medieval', 'history', 'write', 'in', 'the', 'meaning', 'as', 'an', 'analysis', 'of', 'the', 'metal', 'level', 'of', 'the', 'past', 'this', 'third', 'concept', 'be', 'the', 'first', 'two', 'as', 'the', 'analysis', 'usually', 'focus', 'on', 'story', 'interpretation', 'worldviews', 'use', 'of', 'evidence', 'or', 'other', 'historian', 'representation', 'it', 'may', 'be', 'related', 'professional', 'historian', 'also', 'argue', 'whether', 'history', 'can', 'be', 'teach', 'as', 'as', 'single', 'coherent', 'story', 'or', 'as', 'as', 'series', 'of', 'compete', 'story']\n",
      "['history', 'have', 'many', 'relevant', 'implication', 'firstly', 'it', 'may', 'have', 'to', 'do', 'with', 'how', 'history', 'be', 'create', 'history', 'of', 'development', 'and', 'practice', 'eg', 'the', 'transition', 'from', 'short', 'biographical', 'story', 'to', 'longer', 'rheumatic', 'analysis', 'second', 'it', 'may', 'related', 'to', 'what', 'be', 'create', 'as', 'particular', 'collection', 'of', 'historical', 'work', 'for', 'example', 'medieval', 'history', 'of', 'the', 'be', 'work', 'of', 'medieval', 'history', 'write', 'in', 'the', 'meaning', 'as', 'an', 'analysis', 'of', 'the', 'metal', 'level', 'of', 'the', 'past', 'this', 'third', 'concept', 'be', 'the', 'first', 'two', 'as', 'the', 'analysis', 'usually', 'focus', 'on', 'story', 'interpretation', 'worldviews', 'use', 'of', 'evidence', 'or', 'other', 'historian', 'representation', 'it', 'may', 'be', 'related', 'professional', 'historian', 'also', 'argue', 'whether', 'history', 'can', 'be', 'teach', 'as', 'as', 'single', 'coherent', 'story', 'or', 'as', 'as', 'series', 'of', 'compete', 'story']\n",
      "['history', 'have', 'many', 'relevant', 'implication', 'firstly', 'it', 'may', 'have', 'to', 'do', 'with', 'how', 'history', 'be', 'create', 'history', 'of', 'development', 'and', 'practice', 'eg', 'the', 'transition', 'from', 'short', 'biographical', 'story', 'to', 'longer', 'rheumatic', 'analysis', 'second', 'it', 'may', 'related', 'to', 'what', 'be', 'create', 'as', 'particular', 'collection', 'of', 'historical', 'work', 'for', 'example', 'medieval', 'history', 'of', 'the', 'be', 'work', 'of', 'medieval', 'history', 'write', 'in', 'the', 'meaning', 'as', 'an', 'analysis', 'of', 'the', 'metal', 'level', 'of', 'the', 'past', 'this', 'third', 'concept', 'be', 'the', 'firstly', 'two', 'as', 'the', 'analysis', 'usually', 'focus', 'on', 'story', 'interpretation', 'worldviews', 'use', 'of', 'evidence', 'or', 'other', 'historian', 'representation', 'it', 'may', 'be', 'related', 'professional', 'historian', 'also', 'argue', 'whether', 'history', 'can', 'be', 'teach', 'as', 'as', 'single', 'coherent', 'story', 'or', 'as', 'as', 'series', 'of', 'compete', 'story']\n",
      "['history', 'have', 'many', 'relevant', 'implication', 'firstly', 'it', 'may', 'have', 'to', 'do', 'with', 'how', 'history', 'be', 'create', 'history', 'of', 'development', 'and', 'practice', 'eg', 'the', 'transition', 'from', 'short', 'biographical', 'history', 'to', 'longer', 'rheumatic', 'analysis', 'second', 'it', 'may', 'related', 'to', 'what', 'be', 'create', 'as', 'particular', 'collection', 'of', 'historical', 'work', 'for', 'example', 'medieval', 'history', 'of', 'the', 'be', 'work', 'of', 'medieval', 'history', 'write', 'in', 'the', 'meaning', 'as', 'an', 'analysis', 'of', 'the', 'metal', 'level', 'of', 'the', 'past', 'this', 'third', 'concept', 'be', 'the', 'firstly', 'two', 'as', 'the', 'analysis', 'usually', 'focus', 'on', 'story', 'interpretation', 'worldviews', 'use', 'of', 'evidence', 'or', 'other', 'historian', 'representation', 'it', 'may', 'be', 'related', 'professional', 'historian', 'also', 'argue', 'whether', 'history', 'can', 'be', 'teach', 'as', 'as', 'single', 'coherent', 'story', 'or', 'as', 'as', 'series', 'of', 'compete', 'story']\n",
      "['history', 'have', 'many', 'relevant', 'implication', 'firstly', 'it', 'may', 'have', 'to', 'do', 'with', 'how', 'history', 'be', 'create', 'history', 'of', 'development', 'and', 'practice', 'eg', 'the', 'transition', 'from', 'short', 'biographical', 'history', 'to', 'longer', 'rheumatic', 'analysis', 'second', 'it', 'may', 'related', 'to', 'what', 'be', 'create', 'as', 'particular', 'collection', 'of', 'historical', 'work', 'for', 'example', 'medieval', 'history', 'of', 'the', 'be', 'work', 'of', 'medieval', 'history', 'write', 'in', 'the', 'meaning', 'as', 'an', 'analysis', 'of', 'the', 'metal', 'level', 'of', 'the', 'past', 'this', 'third', 'concept', 'be', 'the', 'firstly', 'two', 'as', 'the', 'analysis', 'usually', 'focus', 'on', 'history', 'interpretation', 'worldviews', 'use', 'of', 'evidence', 'or', 'other', 'historian', 'representation', 'it', 'may', 'be', 'related', 'professional', 'historian', 'also', 'argue', 'whether', 'history', 'can', 'be', 'teach', 'as', 'as', 'single', 'coherent', 'story', 'or', 'as', 'as', 'series', 'of', 'compete', 'story']\n",
      "['history', 'have', 'many', 'relevant', 'implication', 'firstly', 'it', 'may', 'have', 'to', 'do', 'with', 'how', 'history', 'be', 'create', 'history', 'of', 'development', 'and', 'practice', 'eg', 'the', 'transition', 'from', 'short', 'biographical', 'history', 'to', 'longer', 'rheumatic', 'analysis', 'second', 'it', 'may', 'related', 'to', 'what', 'be', 'create', 'as', 'particular', 'collection', 'of', 'historical', 'work', 'for', 'example', 'medieval', 'history', 'of', 'the', 'be', 'work', 'of', 'medieval', 'history', 'write', 'in', 'the', 'meaning', 'as', 'an', 'analysis', 'of', 'the', 'metal', 'level', 'of', 'the', 'past', 'this', 'third', 'concept', 'be', 'the', 'firstly', 'two', 'as', 'the', 'analysis', 'usually', 'focus', 'on', 'history', 'interpretation', 'worldviews', 'use', 'of', 'evidence', 'or', 'other', 'historian', 'representation', 'it', 'may', 'be', 'related', 'professional', 'historian', 'also', 'argue', 'whether', 'history', 'can', 'be', 'teach', 'as', 'as', 'single', 'coherent', 'history', 'or', 'as', 'as', 'series', 'of', 'compete', 'story']\n",
      "['history', 'have', 'many', 'relevant', 'implication', 'firstly', 'it', 'may', 'have', 'to', 'do', 'with', 'how', 'history', 'be', 'create', 'history', 'of', 'development', 'and', 'practice', 'eg', 'the', 'transition', 'from', 'short', 'biographical', 'history', 'to', 'longer', 'rheumatic', 'analysis', 'second', 'it', 'may', 'related', 'to', 'what', 'be', 'create', 'as', 'particular', 'collection', 'of', 'historical', 'work', 'for', 'example', 'medieval', 'history', 'of', 'the', 'be', 'work', 'of', 'medieval', 'history', 'write', 'in', 'the', 'meaning', 'as', 'an', 'analysis', 'of', 'the', 'metal', 'level', 'of', 'the', 'past', 'this', 'third', 'concept', 'be', 'the', 'firstly', 'two', 'as', 'the', 'analysis', 'usually', 'focus', 'on', 'history', 'interpretation', 'worldviews', 'use', 'of', 'evidence', 'or', 'other', 'historian', 'representation', 'it', 'may', 'be', 'related', 'professional', 'historian', 'also', 'argue', 'whether', 'history', 'can', 'be', 'teach', 'as', 'as', 'single', 'coherent', 'history', 'or', 'as', 'as', 'series', 'of', 'compete', 'history']\n",
      "['history', 'have', 'many', 'relevant', 'implication', 'firstly', 'it', 'may', 'have', 'to', 'do', 'with', 'how', 'history', 'be', 'produce', 'history', 'of', 'development', 'and', 'practice', 'eg', 'the', 'transition', 'from', 'short', 'biographical', 'history', 'to', 'longer', 'rheumatic', 'analysis', 'second', 'it', 'may', 'related', 'to', 'what', 'be', 'create', 'as', 'particular', 'collection', 'of', 'historical', 'work', 'for', 'example', 'medieval', 'history', 'of', 'the', 'be', 'work', 'of', 'medieval', 'history', 'write', 'in', 'the', 'meaning', 'as', 'an', 'analysis', 'of', 'the', 'metal', 'level', 'of', 'the', 'past', 'this', 'third', 'concept', 'be', 'the', 'firstly', 'two', 'as', 'the', 'analysis', 'usually', 'focus', 'on', 'history', 'interpretation', 'worldviews', 'use', 'of', 'evidence', 'or', 'other', 'historian', 'representation', 'it', 'may', 'be', 'related', 'professional', 'historian', 'also', 'argue', 'whether', 'history', 'can', 'be', 'teach', 'as', 'as', 'single', 'coherent', 'history', 'or', 'as', 'as', 'series', 'of', 'compete', 'history']\n",
      "['history', 'have', 'many', 'relevant', 'implication', 'firstly', 'it', 'may', 'have', 'to', 'do', 'with', 'how', 'history', 'be', 'produce', 'history', 'of', 'development', 'and', 'practice', 'eg', 'the', 'transition', 'from', 'short', 'biographical', 'history', 'to', 'longer', 'rheumatic', 'analysis', 'second', 'it', 'may', 'related', 'to', 'what', 'be', 'produce', 'as', 'particular', 'collection', 'of', 'historical', 'work', 'for', 'example', 'medieval', 'history', 'of', 'the', 'be', 'work', 'of', 'medieval', 'history', 'write', 'in', 'the', 'meaning', 'as', 'an', 'analysis', 'of', 'the', 'metal', 'level', 'of', 'the', 'past', 'this', 'third', 'concept', 'be', 'the', 'firstly', 'two', 'as', 'the', 'analysis', 'usually', 'focus', 'on', 'history', 'interpretation', 'worldviews', 'use', 'of', 'evidence', 'or', 'other', 'historian', 'representation', 'it', 'may', 'be', 'related', 'professional', 'historian', 'also', 'argue', 'whether', 'history', 'can', 'be', 'teach', 'as', 'as', 'single', 'coherent', 'history', 'or', 'as', 'as', 'series', 'of', 'compete', 'history']\n",
      "['history', 'have', 'many', 'relevant', 'implication', 'firstly', 'it', 'may', 'have', 'to', 'practice', 'with', 'how', 'history', 'be', 'produce', 'history', 'of', 'development', 'and', 'practice', 'eg', 'the', 'transition', 'from', 'short', 'biographical', 'history', 'to', 'longer', 'rheumatic', 'analysis', 'second', 'it', 'may', 'related', 'to', 'what', 'be', 'produce', 'as', 'particular', 'collection', 'of', 'historical', 'work', 'for', 'example', 'medieval', 'history', 'of', 'the', 'be', 'work', 'of', 'medieval', 'history', 'write', 'in', 'the', 'meaning', 'as', 'an', 'analysis', 'of', 'the', 'metal', 'level', 'of', 'the', 'past', 'this', 'third', 'concept', 'be', 'the', 'firstly', 'two', 'as', 'the', 'analysis', 'usually', 'focus', 'on', 'history', 'interpretation', 'worldviews', 'use', 'of', 'evidence', 'or', 'other', 'historian', 'representation', 'it', 'may', 'be', 'related', 'professional', 'historian', 'also', 'argue', 'whether', 'history', 'can', 'be', 'teach', 'as', 'as', 'single', 'coherent', 'history', 'or', 'as', 'as', 'series', 'of', 'compete', 'history']\n",
      "['history', 'have', 'many', 'relevant', 'implication', 'firstly', 'it', 'may', 'have', 'to', 'practice', 'with', 'how', 'history', 'be', 'produce', 'history', 'of', 'development', 'and', 'practice', 'eg', 'the', 'transition', 'from', 'short', 'biographical', 'history', 'to', 'longer', 'rheumatic', 'analysis', 'second', 'it', 'may', 'related', 'to', 'what', 'be', 'produce', 'as', 'particular', 'collection', 'of', 'historical', 'work', 'for', 'example', 'medieval', 'history', 'of', 'the', 'be', 'work', 'of', 'medieval', 'history', 'write', 'in', 'the', 'meaning', 'as', 'an', 'analysis', 'of', 'the', 'metal', 'level', 'of', 'the', 'past', 'this', 'third', 'concept', 'be', 'the', 'firstly', 'two', 'as', 'the', 'analysis', 'usually', 'focus', 'on', 'history', 'interpretation', 'worldviews', 'practice', 'of', 'evidence', 'or', 'other', 'historian', 'representation', 'it', 'may', 'be', 'related', 'professional', 'historian', 'also', 'argue', 'whether', 'history', 'can', 'be', 'teach', 'as', 'as', 'single', 'coherent', 'history', 'or', 'as', 'as', 'series', 'of', 'compete', 'history']\n",
      "['history', 'have', 'many', 'relevant', 'implication', 'firstly', 'it', 'may', 'have', 'to', 'practice', 'with', 'how', 'history', 'be', 'produce', 'history', 'of', 'development', 'and', 'practice', 'eg', 'the', 'transition', 'from', 'short', 'biographical', 'history', 'to', 'longer', 'rheumatic', 'analysis', 'secondly', 'it', 'may', 'related', 'to', 'what', 'be', 'produce', 'as', 'particular', 'collection', 'of', 'historical', 'work', 'for', 'example', 'medieval', 'history', 'of', 'the', 'be', 'work', 'of', 'medieval', 'history', 'write', 'in', 'the', 'meaning', 'as', 'an', 'analysis', 'of', 'the', 'metal', 'level', 'of', 'the', 'past', 'this', 'third', 'concept', 'be', 'the', 'firstly', 'two', 'as', 'the', 'analysis', 'usually', 'focus', 'on', 'history', 'interpretation', 'worldviews', 'practice', 'of', 'evidence', 'or', 'other', 'historian', 'representation', 'it', 'may', 'be', 'related', 'professional', 'historian', 'also', 'argue', 'whether', 'history', 'can', 'be', 'teach', 'as', 'as', 'single', 'coherent', 'history', 'or', 'as', 'as', 'series', 'of', 'compete', 'history']\n",
      "['history', 'have', 'many', 'relevant', 'implication', 'firstly', 'it', 'may', 'have', 'to', 'practice', 'with', 'how', 'history', 'be', 'produce', 'history', 'of', 'development', 'and', 'practice', 'eg', 'the', 'transition', 'from', 'short', 'biographical', 'history', 'to', 'longer', 'rheumatic', 'analysis', 'secondly', 'it', 'may', 'related', 'to', 'what', 'be', 'produce', 'as', 'specific', 'collection', 'of', 'historical', 'work', 'for', 'example', 'medieval', 'history', 'of', 'the', 'be', 'work', 'of', 'medieval', 'history', 'write', 'in', 'the', 'meaning', 'as', 'an', 'analysis', 'of', 'the', 'metal', 'level', 'of', 'the', 'past', 'this', 'third', 'concept', 'be', 'the', 'firstly', 'two', 'as', 'the', 'analysis', 'usually', 'focus', 'on', 'history', 'interpretation', 'worldviews', 'practice', 'of', 'evidence', 'or', 'other', 'historian', 'representation', 'it', 'may', 'be', 'related', 'professional', 'historian', 'also', 'argue', 'whether', 'history', 'can', 'be', 'teach', 'as', 'as', 'single', 'coherent', 'history', 'or', 'as', 'as', 'series', 'of', 'compete', 'history']\n",
      "['history', 'have', 'many', 'relevant', 'implication', 'firstly', 'it', 'may', 'have', 'to', 'practice', 'with', 'how', 'history', 'be', 'produce', 'history', 'of', 'development', 'and', 'practice', 'eg', 'the', 'transition', 'from', 'short', 'biographical', 'history', 'to', 'longer', 'rheumatic', 'analysis', 'secondly', 'it', 'may', 'related', 'to', 'what', 'be', 'produce', 'as', 'specific', 'collection', 'of', 'historical', 'work', 'for', 'example', 'medieval', 'history', 'of', 'the', 'be', 'work', 'of', 'medieval', 'history', 'writing', 'in', 'the', 'meaning', 'as', 'an', 'analysis', 'of', 'the', 'metal', 'level', 'of', 'the', 'past', 'this', 'third', 'concept', 'be', 'the', 'firstly', 'two', 'as', 'the', 'analysis', 'usually', 'focus', 'on', 'history', 'interpretation', 'worldviews', 'practice', 'of', 'evidence', 'or', 'other', 'historian', 'representation', 'it', 'may', 'be', 'related', 'professional', 'historian', 'also', 'argue', 'whether', 'history', 'can', 'be', 'teach', 'as', 'as', 'single', 'coherent', 'history', 'or', 'as', 'as', 'series', 'of', 'compete', 'history']\n",
      "['history', 'have', 'many', 'relevant', 'implication', 'firstly', 'it', 'may', 'have', 'to', 'practice', 'with', 'how', 'history', 'be', 'produce', 'history', 'of', 'development', 'and', 'practice', 'eg', 'the', 'transition', 'from', 'short', 'biographical', 'history', 'to', 'longer', 'rheumatic', 'analysis', 'secondly', 'it', 'may', 'related', 'to', 'what', 'be', 'produce', 'as', 'specific', 'collection', 'of', 'historical', 'work', 'for', 'example', 'medieval', 'history', 'of', 'the', 'be', 'work', 'of', 'medieval', 'history', 'writing', 'in', 'the', 'meaning', 'as', 'an', 'analysis', 'of', 'the', 'metal', 'level', 'of', 'the', 'past', 'this', 'third', 'conception', 'be', 'the', 'firstly', 'two', 'as', 'the', 'analysis', 'usually', 'focus', 'on', 'history', 'interpretation', 'worldviews', 'practice', 'of', 'evidence', 'or', 'other', 'historian', 'representation', 'it', 'may', 'be', 'related', 'professional', 'historian', 'also', 'argue', 'whether', 'history', 'can', 'be', 'teach', 'as', 'as', 'single', 'coherent', 'history', 'or', 'as', 'as', 'series', 'of', 'compete', 'history']\n",
      "['history', 'have', 'many', 'relevant', 'implication', 'firstly', 'it', 'may', 'have', 'to', 'practice', 'with', 'how', 'history', 'be', 'produce', 'history', 'of', 'development', 'and', 'practice', 'eg', 'the', 'transition', 'from', 'short', 'biographical', 'history', 'to', 'longer', 'rheumatic', 'analysis', 'secondly', 'it', 'may', 'related', 'to', 'what', 'be', 'produce', 'as', 'specific', 'collection', 'of', 'historical', 'work', 'for', 'example', 'medieval', 'history', 'of', 'the', 'be', 'work', 'of', 'medieval', 'history', 'writing', 'in', 'the', 'meaning', 'as', 'an', 'analysis', 'of', 'the', 'metal', 'level', 'of', 'the', 'past', 'this', 'third', 'conception', 'be', 'the', 'firstly', 'two', 'as', 'the', 'analysis', 'usually', 'focus', 'on', 'history', 'interpretation', 'worldviews', 'practice', 'of', 'evidence', 'or', 'other', 'historian', 'representation', 'it', 'may', 'be', 'related', 'professional', 'historian', 'also', 'debate', 'whether', 'history', 'can', 'be', 'teach', 'as', 'as', 'single', 'coherent', 'history', 'or', 'as', 'as', 'series', 'of', 'compete', 'history']\n",
      "[['relate', 'related'], ['refer', 'related'], ['mean', 'meaning'], ['first', 'firstly'], ['story', 'history'], ['use', 'practice'], ['write', 'writing'], ['a', 'as'], ['a', 'as'], ['relate', 'related'], ['refer', 'related'], ['mean', 'meaning'], ['first', 'firstly'], ['story', 'history'], ['create', 'produce'], ['do', 'practice'], ['use', 'practice'], ['second', 'secondly'], ['particular', 'specific'], ['write', 'writing'], ['concept', 'conception'], ['argue', 'debate']]\n"
     ]
    }
   ],
   "source": [
    "from nltk.corpus import wordnet\n",
    "\n",
    "original_word_list = lemmatized_text_1.split()\n",
    "student_word_list = lemmatized_text_2.split()\n",
    "\n",
    "replaced_words_list = []\n",
    "\n",
    "for original_word in original_word_list:                           #replace synonyms in original_text\n",
    "    synonyms = []\n",
    "    for syn in wordnet.synsets(original_word):                         \n",
    "        for l in syn.lemmas():\n",
    "            synonyms.append(l.name())\n",
    "    for synonym in synonyms:\n",
    "        if (synonym in original_word_list) and (synonym != original_word):\n",
    "            for i in range(len(original_word_list)):\n",
    "                if original_word_list[i] == synonym:\n",
    "                    original_word_list[i] = original_word\n",
    "                    print(synonym,original_word )\n",
    "                    print(original_word_list)\n",
    "            replaced_words_list.append([synonym, original_word])\n",
    "lemmatized_text_1 = \" \".join(original_word_list)\n",
    "\n",
    "\n",
    "\n",
    "for original_word in original_word_list:                           #replace synonyms in student text with original text\n",
    "    synonyms = []\n",
    "    for syn in wordnet.synsets(original_word):                         \n",
    "        for l in syn.lemmas():\n",
    "            synonyms.append(l.name())\n",
    "    for synonym in synonyms:\n",
    "        if (synonym in student_word_list) and (synonym != original_word):\n",
    "            for i in range(len(student_word_list)):\n",
    "                if student_word_list[i] == synonym:\n",
    "                    student_word_list[i] = original_word\n",
    "                    print(student_word_list)\n",
    "            replaced_words_list.append([synonym, original_word])\n",
    "\n",
    "for word in student_word_list:\n",
    "    synonyms = []\n",
    "    for syn in wordnet.synsets(word):                         \n",
    "        for l in syn.lemmas():\n",
    "            synonyms.append(l.name())\n",
    "    for synonym in synonyms:\n",
    "        if (synonym in original_word_list) and (synonym != word):\n",
    "            for i in range(len(student_word_list)):\n",
    "                if student_word_list[i] == word:\n",
    "                    student_word_list[i] = synonym\n",
    "            replaced_words_list.append([word, synonym])\n",
    "lemmatized_text_ = \" \".join(student_word_list)\n",
    "           \n",
    "print(replaced_words_list)"
   ]
  },
  {
   "cell_type": "code",
   "execution_count": 10,
   "metadata": {},
   "outputs": [
    {
     "name": "stdout",
     "output_type": "stream",
     "text": [
      "['narrative', 'narration', 'story', 'tale', 'story', 'floor', 'level', 'storey', 'story', 'history', 'account', 'chronicle', 'story', 'report', 'news_report', 'story', 'account', 'write_up', 'fib', 'story', 'tale', 'tarradiddle', 'taradiddle']\n"
     ]
    }
   ],
   "source": [
    "synonyms = []\n",
    "for syn in wordnet.synsets(\"story\"):                         \n",
    "    for l in syn.lemmas():\n",
    "        synonyms.append(l.name())\n",
    "            \n",
    "print(synonyms)"
   ]
  },
  {
   "cell_type": "code",
   "execution_count": 11,
   "metadata": {},
   "outputs": [
    {
     "name": "stdout",
     "output_type": "stream",
     "text": [
      "\u001b[1mOriginal Answer (Lemmatized)\u001b[0m\n",
      "historiography have as number of related meaning firstly it can related to how history have be produce the history of the development of and practice for example the move from short biographical narrative toward longer rheumatic analysis secondly it can related to what have be produce as specific body of historical writing for example medieval historiography during the meaning work of medieval history writing during the it may related to why history be produce the philosophy of history as as metalevel analysis of description of the past this third conception can related to the firstly two in that the analysis usually focus on the narrative interpretation world view practice of evidence or method of presentation of other historian professional historian also debate the question of whether history can be teach as as single coherent narrative or as series of compete narrative\n",
      "\u001b[1m\n",
      "Student Answer (Lemmatized)\u001b[0m\n",
      "history have many relevant implication first it may have to do with how history be create history of development and practice eg the transition from short biographical story to longer rheumatic analysis second it may refer to what be create a particular collection of historical work for example medieval history of the be work of medieval history write in the mean as an analysis of the metal level of the past this third concept be the first two as the analysis usually focus on story interpretation worldviews use of evidence or other historian representation it may be relate professional historian also argue whether history can be teach as a single coherent story or as a series of compete story\n"
     ]
    }
   ],
   "source": [
    "print('\\033[1m'+\"Original Answer (Lemmatized)\"+'\\033[0m')\n",
    "print(lemmatized_text_1)\n",
    "print('\\033[1m'+\"\\nStudent Answer (Lemmatized)\"+'\\033[0m')\n",
    "print(lemmatized_text_2)"
   ]
  },
  {
   "cell_type": "markdown",
   "metadata": {},
   "source": [
    "## Optional text preprocessing techniques"
   ]
  },
  {
   "cell_type": "markdown",
   "metadata": {},
   "source": [
    "### a. Chunking (Shallow Parsing)"
   ]
  },
  {
   "cell_type": "markdown",
   "metadata": {},
   "source": [
    "Chunking is a natural language process that identifies constituent parts of sentences (nouns, verbs, adjectives, etc.) and links them to higher order units that have discrete grammatical meanings (noun groups or phrases, verb groups, etc.)"
   ]
  },
  {
   "cell_type": "markdown",
   "metadata": {},
   "source": [
    "### b. Named-entity recognition \n"
   ]
  },
  {
   "cell_type": "markdown",
   "metadata": {},
   "source": [
    "Named-entity recognition (NER) aims to find named entities in text and classify them into predefined categories (names of persons, locations, organizations, times, etc.)."
   ]
  },
  {
   "cell_type": "markdown",
   "metadata": {},
   "source": [
    "### c. Collocation Extraction\n"
   ]
  },
  {
   "cell_type": "markdown",
   "metadata": {},
   "source": [
    "Collocations are word combinations occurring together more often than would be expected by chance. Collocation examples are “break the rules,” “free time,” “draw a conclusion,” “keep in mind,” “get ready,” and so on."
   ]
  },
  {
   "cell_type": "markdown",
   "metadata": {},
   "source": [
    "### d. Relationship Extraction"
   ]
  },
  {
   "cell_type": "markdown",
   "metadata": {},
   "source": [
    "Relationship extraction allows obtaining structured information from unstructured sources such as raw text. Strictly stated, it is identifying relations (e.g., acquisition, spouse, employment) among named entities (e.g., people, organizations, locations). For example, from the sentence “Matthew and Emily married yesterday,” we can extract the information that Matthew is Emily’s husband."
   ]
  },
  {
   "cell_type": "markdown",
   "metadata": {},
   "source": [
    "## 3. Organizing The Data"
   ]
  },
  {
   "cell_type": "markdown",
   "metadata": {},
   "source": [
    "The output of this section will be clean, organized data in two standard text formats:\n",
    "1. **Corpus** - a collection of text\n",
    "2. **Document-Term Matrix** - word counts in matrix format"
   ]
  },
  {
   "cell_type": "markdown",
   "metadata": {},
   "source": [
    "### 3.1 Corpus"
   ]
  },
  {
   "cell_type": "markdown",
   "metadata": {},
   "source": [
    "We already created a corpus in an earlier step. The definition of a corpus is a collection of texts, and they are all put together neatly in a pandas dataframe here."
   ]
  },
  {
   "cell_type": "code",
   "execution_count": 12,
   "metadata": {},
   "outputs": [
    {
     "data": {
      "text/html": [
       "<div>\n",
       "<style scoped>\n",
       "    .dataframe tbody tr th:only-of-type {\n",
       "        vertical-align: middle;\n",
       "    }\n",
       "\n",
       "    .dataframe tbody tr th {\n",
       "        vertical-align: top;\n",
       "    }\n",
       "\n",
       "    .dataframe thead th {\n",
       "        text-align: right;\n",
       "    }\n",
       "</style>\n",
       "<table border=\"1\" class=\"dataframe\">\n",
       "  <thead>\n",
       "    <tr style=\"text-align: right;\">\n",
       "      <th></th>\n",
       "      <th>Person</th>\n",
       "      <th>text</th>\n",
       "    </tr>\n",
       "  </thead>\n",
       "  <tbody>\n",
       "    <tr>\n",
       "      <th>0</th>\n",
       "      <td>Teacher</td>\n",
       "      <td>historiography have as number of related meani...</td>\n",
       "    </tr>\n",
       "    <tr>\n",
       "      <th>1</th>\n",
       "      <td>student</td>\n",
       "      <td>history have many relevant implication first i...</td>\n",
       "    </tr>\n",
       "  </tbody>\n",
       "</table>\n",
       "</div>"
      ],
      "text/plain": [
       "    Person                                               text\n",
       "0  Teacher  historiography have as number of related meani...\n",
       "1  student  history have many relevant implication first i..."
      ]
     },
     "execution_count": 12,
     "metadata": {},
     "output_type": "execute_result"
    }
   ],
   "source": [
    "# assign data of lists.  \n",
    "data = {'Person': ['Teacher', 'student'], 'text': [lemmatized_text_1, lemmatized_text_2]}  \n",
    "data_df_cleaned = pd.DataFrame(data) #data_df is unprocessed dataset.\n",
    "\n",
    "# Let's take a look at our dataframe\n",
    "data_df_cleaned"
   ]
  },
  {
   "cell_type": "markdown",
   "metadata": {},
   "source": [
    "### 3.2 Document-Term Matrix"
   ]
  },
  {
   "cell_type": "markdown",
   "metadata": {},
   "source": [
    "For many of the techniques we'll be using in future, the text must be tokenized, meaning broken down into smaller pieces. The most common tokenization technique is to break down text into words. We can do this using scikit-learn's CountVectorizer, where every row will represent a different document and every column will represent a different word.\n",
    "\n",
    "In addition, with CountVectorizer, we can remove stop words. Stop words are common words that add no additional meaning to text such as 'a', 'the', etc."
   ]
  },
  {
   "cell_type": "code",
   "execution_count": 13,
   "metadata": {
    "scrolled": true
   },
   "outputs": [
    {
     "data": {
      "text/html": [
       "<div>\n",
       "<style scoped>\n",
       "    .dataframe tbody tr th:only-of-type {\n",
       "        vertical-align: middle;\n",
       "    }\n",
       "\n",
       "    .dataframe tbody tr th {\n",
       "        vertical-align: top;\n",
       "    }\n",
       "\n",
       "    .dataframe thead th {\n",
       "        text-align: right;\n",
       "    }\n",
       "</style>\n",
       "<table border=\"1\" class=\"dataframe\">\n",
       "  <thead>\n",
       "    <tr style=\"text-align: right;\">\n",
       "      <th></th>\n",
       "      <th>analysis</th>\n",
       "      <th>argue</th>\n",
       "      <th>biographical</th>\n",
       "      <th>body</th>\n",
       "      <th>coherent</th>\n",
       "      <th>collection</th>\n",
       "      <th>compete</th>\n",
       "      <th>concept</th>\n",
       "      <th>conception</th>\n",
       "      <th>create</th>\n",
       "      <th>...</th>\n",
       "      <th>teach</th>\n",
       "      <th>transition</th>\n",
       "      <th>use</th>\n",
       "      <th>usually</th>\n",
       "      <th>view</th>\n",
       "      <th>work</th>\n",
       "      <th>world</th>\n",
       "      <th>worldviews</th>\n",
       "      <th>write</th>\n",
       "      <th>writing</th>\n",
       "    </tr>\n",
       "  </thead>\n",
       "  <tbody>\n",
       "    <tr>\n",
       "      <th>0</th>\n",
       "      <td>3</td>\n",
       "      <td>0</td>\n",
       "      <td>1</td>\n",
       "      <td>1</td>\n",
       "      <td>1</td>\n",
       "      <td>0</td>\n",
       "      <td>1</td>\n",
       "      <td>0</td>\n",
       "      <td>1</td>\n",
       "      <td>0</td>\n",
       "      <td>...</td>\n",
       "      <td>1</td>\n",
       "      <td>0</td>\n",
       "      <td>0</td>\n",
       "      <td>1</td>\n",
       "      <td>1</td>\n",
       "      <td>1</td>\n",
       "      <td>1</td>\n",
       "      <td>0</td>\n",
       "      <td>0</td>\n",
       "      <td>2</td>\n",
       "    </tr>\n",
       "    <tr>\n",
       "      <th>1</th>\n",
       "      <td>3</td>\n",
       "      <td>1</td>\n",
       "      <td>1</td>\n",
       "      <td>0</td>\n",
       "      <td>1</td>\n",
       "      <td>1</td>\n",
       "      <td>1</td>\n",
       "      <td>1</td>\n",
       "      <td>0</td>\n",
       "      <td>2</td>\n",
       "      <td>...</td>\n",
       "      <td>1</td>\n",
       "      <td>1</td>\n",
       "      <td>1</td>\n",
       "      <td>1</td>\n",
       "      <td>0</td>\n",
       "      <td>2</td>\n",
       "      <td>0</td>\n",
       "      <td>1</td>\n",
       "      <td>1</td>\n",
       "      <td>0</td>\n",
       "    </tr>\n",
       "  </tbody>\n",
       "</table>\n",
       "<p>2 rows × 64 columns</p>\n",
       "</div>"
      ],
      "text/plain": [
       "   analysis  argue  biographical  body  coherent  collection  compete  \\\n",
       "0         3      0             1     1         1           0        1   \n",
       "1         3      1             1     0         1           1        1   \n",
       "\n",
       "   concept  conception  create  ...  teach  transition  use  usually  view  \\\n",
       "0        0           1       0  ...      1           0    0        1     1   \n",
       "1        1           0       2  ...      1           1    1        1     0   \n",
       "\n",
       "   work  world  worldviews  write  writing  \n",
       "0     1      1           0      0        2  \n",
       "1     2      0           1      1        0  \n",
       "\n",
       "[2 rows x 64 columns]"
      ]
     },
     "execution_count": 13,
     "metadata": {},
     "output_type": "execute_result"
    }
   ],
   "source": [
    "# We are going to create a document-term matrix using CountVectorizer, and exclude common English stop words\n",
    "from sklearn.feature_extraction.text import CountVectorizer\n",
    "\n",
    "cv = CountVectorizer(stop_words='english')\n",
    "data_cv = cv.fit_transform(data_df_cleaned.text)\n",
    "data_dtm = pd.DataFrame(data_cv.toarray(), columns=cv.get_feature_names())\n",
    "data_dtm.index = data_df_cleaned.index\n",
    "data_dtm"
   ]
  },
  {
   "cell_type": "markdown",
   "metadata": {},
   "source": [
    "## 4. Exploratory Data Analysis (Text Analysis)"
   ]
  },
  {
   "cell_type": "markdown",
   "metadata": {},
   "source": [
    "* 1. Counting number of common words,missing words, Total words and Total different words, between original and student scripts\n",
    "* 2. Lists of nouns, verbs, adverbs, adjectives to choose sentences for similarity scoring\n",
    "* 3. Sentence similarity scoring and counting missing nouns\n",
    "*  Antonyms and wrong mapping of functions (verbs) for given noun(s) will be taken care in the inbuilt similarity score.\n"
   ]
  },
  {
   "cell_type": "markdown",
   "metadata": {},
   "source": [
    "### 4.1 Counting number of common words, missing words, Total words and Total different words, between original and student scripts"
   ]
  },
  {
   "cell_type": "code",
   "execution_count": 14,
   "metadata": {},
   "outputs": [],
   "source": [
    "# Counting number of common words between original and student text\n",
    "words = [ key for key in dict(data_dtm.iloc[0])] \n",
    "\n",
    "common_word_count = 0\n",
    "total_words_student_count = 0\n",
    "missing_words_count = 0\n",
    "total_words_original_count = 0\n",
    "\n",
    "common_words = []\n",
    "total_words_student = []\n",
    "missing_words = []\n",
    "total_words_original = []\n",
    "\n",
    "for word in words:\n",
    "    list_ = list(data_dtm[word])\n",
    "    if (list_[0] != 0) and (list_[1] != 0) :\n",
    "        common_word_count += 1\n",
    "        common_words.append(word)\n",
    "    if (list_[1] != 0) :\n",
    "        total_words_student_count += 1\n",
    "        total_words_student.append(word)\n",
    "    if (list_[1] == 0) and (list_[0] != 0):\n",
    "        missing_words_count += 1\n",
    "        missing_words.append(word)\n",
    "    if (list_[0] != 0) :\n",
    "        total_words_original_count += 1   \n",
    "        total_words_original.append(word)\n",
    "\n",
    "original_total_word_count = data_dtm.sum(axis = 1)[0] \n",
    "student_total_word_count = data_dtm.sum(axis = 1)[1]\n",
    "        \n",
    "common_word_count_percentage = common_word_count/ total_words_student_count"
   ]
  },
  {
   "cell_type": "markdown",
   "metadata": {},
   "source": [
    "### 4.2 Lists of nouns to choose sentences for similarity scoring"
   ]
  },
  {
   "cell_type": "code",
   "execution_count": 15,
   "metadata": {},
   "outputs": [],
   "source": [
    "#create lists of  nouns from lemmatized text to select proper sentences while comparing similarity\n",
    "nouns_original = []\n",
    "\n",
    "pos_tagged_1 = nltk.pos_tag(nltk.word_tokenize(lemmatized_text_1))\n",
    " \n",
    "# we can use our own pos_tagger function to make things simpler to understand.\n",
    "wordnet_tagged_1 = list(map(lambda x: (x[0], pos_tagger(x[1])), pos_tagged_1))\n",
    "\n",
    "for word,tag in wordnet_tagged_1 :\n",
    "    if tag == \"n\":\n",
    "        nouns_original.append(word)\n"
   ]
  },
  {
   "cell_type": "code",
   "execution_count": 16,
   "metadata": {},
   "outputs": [],
   "source": [
    "#removing duplicates from list\n",
    "distinct_nouns_original = []\n",
    "[distinct_nouns_original.append(x) for x in nouns_original if x not in distinct_nouns_original]\n",
    "nouns_original = distinct_nouns_original"
   ]
  },
  {
   "cell_type": "markdown",
   "metadata": {},
   "source": [
    "### 4.3 Sentence similarity scoring and counting missing nouns"
   ]
  },
  {
   "cell_type": "code",
   "execution_count": 17,
   "metadata": {},
   "outputs": [
    {
     "name": "stdout",
     "output_type": "stream",
     "text": [
      "\u001b[1mOriginal Text Sentences\u001b[0m\n",
      "['historiography have as number of related meaning', 'firstly it can related to how history have be produce the history of the development of and practice for example the move from short biographical narrative toward longer rheumatic', 'analysis secondly it can related to what have be produce as specific body of historical writing for example medieval historiography during the meaning work of medieval history writing during the it', 'may related to why history be produce the philosophy of history as', 'as metalevel analysis of description of the past this third conception can related to the firstly two in that the analysis usually focus on the narrative interpretation world view practice of evidence or method of presentation of', 'other historian professional historian also debate the question of whether history can be teach as as single coherent narrative or as series of', 'compete', 'narrative']\n",
      "\u001b[1m\n",
      "Student Text Sentences\u001b[0m\n",
      "['history have many relevant implication', 'first it may have to do with how history be create history of development and practice eg the transition from short biographical story to longer rheumatic analysis', 'second it may refer to what be create a particular collection of historical work for example medieval history of the be work of medieval history write in the mean as', 'an', 'analysis', 'of the metal level of the past this third concept be the first two as the analysis usually focus on story interpretation worldviews use of evidence or other historian representation it may be relate', 'professional historian also argue', 'whether history can be teach as a single coherent story or as a series of compete story']\n"
     ]
    }
   ],
   "source": [
    "# Getting sentences from original text and student text\n",
    "student_text_sentences_list = []\n",
    "original_text_sentences_list = []\n",
    "\n",
    "student_text_sentence = \"\"\n",
    "original_text_sentence = \"\"\n",
    "word_count = 0\n",
    "sentence_count = 0\n",
    "\n",
    "list_1 = original_answer_script.split(\".\")\n",
    "if list_1[len(list_1) - 1] == \" \":\n",
    "    list_1.pop()\n",
    "\n",
    "# generating original_text_sentences_list\n",
    "for word in lemmatized_text_1.split(\" \"):\n",
    "    if word_count < len(list_1[sentence_count].lstrip().split(\" \")) :\n",
    "        original_text_sentence = original_text_sentence + \" \" + word\n",
    "        word_count += 1\n",
    "    else :\n",
    "        word_count = 0\n",
    "        sentence_count += 1\n",
    "        original_text_sentences_list.append(original_text_sentence.lstrip())\n",
    "        original_text_sentence = \"\"\n",
    "        original_text_sentence = original_text_sentence + \" \" + word\n",
    "        word_count += 1\n",
    "        \n",
    "original_text_sentences_list.append(original_text_sentence.lstrip())\n",
    "print('\\033[1m'+\"Original Text Sentences\"+'\\033[0m')\n",
    "print(original_text_sentences_list)\n",
    "\n",
    "# generating student_text_sentences_list\n",
    "list_2 = student_answer_script.split(\".\")\n",
    "\n",
    "if list_2[len(list_2) - 1] == \" \":\n",
    "    list_2.pop()\n",
    "    \n",
    "word_count = 0\n",
    "sentence_count = 0\n",
    "\n",
    "for word in lemmatized_text_2.split(\" \"):\n",
    "    if word_count < len(list_2[sentence_count].lstrip().split(\" \")) :\n",
    "        student_text_sentence = student_text_sentence + \" \" + word\n",
    "        word_count += 1\n",
    "    else :\n",
    "        word_count = 0\n",
    "        sentence_count += 1\n",
    "        student_text_sentences_list.append(student_text_sentence.lstrip())\n",
    "        student_text_sentence = \"\"\n",
    "        student_text_sentence = student_text_sentence + \" \" + word\n",
    "        word_count += 1\n",
    "        \n",
    "student_text_sentences_list.append(student_text_sentence.lstrip())      \n",
    "print('\\033[1m'+\"\\nStudent Text Sentences\"+'\\033[0m')    \n",
    "print(student_text_sentences_list)"
   ]
  },
  {
   "cell_type": "code",
   "execution_count": 18,
   "metadata": {},
   "outputs": [],
   "source": [
    "# creating a class that gives nouns in a sentence\n",
    "class pos_sentence:\n",
    "    def __init__(self, sentence):\n",
    "        self.nouns = [noun for noun in nouns_original if noun in sentence.split(\" \")]\n",
    "        \n"
   ]
  },
  {
   "cell_type": "code",
   "execution_count": 19,
   "metadata": {},
   "outputs": [],
   "source": [
    "import spacy\n",
    "nlp = spacy.load(\"en_core_web_md\")\n",
    "\n",
    "similar_sentence_list = []\n",
    "similarity_score_list = []\n",
    "missing_noun_list = []\n",
    "\n",
    "for sentence in original_text_sentences_list :\n",
    "    similar_sentences = []\n",
    "    similarity_score_overall = 0\n",
    "    \n",
    "    sentence_object = pos_sentence(sentence)\n",
    "    distinct_nouns_sentence = []\n",
    "    [distinct_nouns_sentence.append(x) for x in sentence_object.nouns if x not in distinct_nouns_sentence]\n",
    "    if len(distinct_nouns_sentence) != 0 :\n",
    "        for noun in distinct_nouns_sentence:\n",
    "            similarity_score = 0\n",
    "            for sentence_1 in student_text_sentences_list :\n",
    "                if noun in sentence_1.split(\" \") :\n",
    "                    if nlp(sentence_1).similarity(nlp(sentence)) > similarity_score :\n",
    "                        similarity_score = nlp(sentence_1).similarity(nlp(sentence))\n",
    "                        similar_sentence = sentence_1\n",
    "\n",
    "            if similarity_score == 0:\n",
    "                missing_noun_list.append(noun)\n",
    "\n",
    "            elif similar_sentence not in similar_sentences :\n",
    "                similar_sentences.append(similar_sentence)\n",
    "                similarity_score_overall += similarity_score\n",
    "    if len(similar_sentences) != 0:\n",
    "        similarity_score_list.append(similarity_score_overall/len(similar_sentences))\n",
    "        similar_sentence_list.append([sentence, similar_sentences])\n",
    "\n"
   ]
  },
  {
   "cell_type": "code",
   "execution_count": 20,
   "metadata": {},
   "outputs": [
    {
     "name": "stdout",
     "output_type": "stream",
     "text": [
      "0:['firstly it can related to how history have be produce the history of the development of and practice for example the move from short biographical narrative toward longer rheumatic', ['first it may have to do with how history be create history of development and practice eg the transition from short biographical story to longer rheumatic analysis', 'second it may refer to what be create a particular collection of historical work for example medieval history of the be work of medieval history write in the mean as']], \n",
      "overall similarity:0.9735370368294042\n",
      "1:['analysis secondly it can related to what have be produce as specific body of historical writing for example medieval historiography during the meaning work of medieval history writing during the it', ['second it may refer to what be create a particular collection of historical work for example medieval history of the be work of medieval history write in the mean as', 'first it may have to do with how history be create history of development and practice eg the transition from short biographical story to longer rheumatic analysis']], \n",
      "overall similarity:0.9698571424588274\n",
      "2:['may related to why history be produce the philosophy of history as', ['first it may have to do with how history be create history of development and practice eg the transition from short biographical story to longer rheumatic analysis']], \n",
      "overall similarity:0.9582720332402799\n",
      "3:['as metalevel analysis of description of the past this third conception can related to the firstly two in that the analysis usually focus on the narrative interpretation world view practice of evidence or method of presentation of', ['first it may have to do with how history be create history of development and practice eg the transition from short biographical story to longer rheumatic analysis', 'of the metal level of the past this third concept be the first two as the analysis usually focus on story interpretation worldviews use of evidence or other historian representation it may be relate']], \n",
      "overall similarity:0.9604702690683868\n",
      "4:['other historian professional historian also debate the question of whether history can be teach as as single coherent narrative or as series of', ['whether history can be teach as a single coherent story or as a series of compete story', 'professional historian also argue', 'of the metal level of the past this third concept be the first two as the analysis usually focus on story interpretation worldviews use of evidence or other historian representation it may be relate']], \n",
      "overall similarity:0.9067023316712794\n",
      "\u001b[1m\n",
      "List of missing nouns\n",
      "\u001b[0m\n",
      "['historiography', 'number', 'meaning', 'move', 'historiography', 'meaning', 'body', 'writing', 'philosophy', 'metalevel', 'description', 'conception', 'world', 'view', 'method', 'presentation', 'question']\n"
     ]
    }
   ],
   "source": [
    "for i in range(len(similar_sentence_list)) :       \n",
    "    print(f\"{i}:{similar_sentence_list[i]}, \\noverall similarity:{similarity_score_list[i]}\")       \n",
    "print('\\033[1m'+\"\\nList of missing nouns\\n\"+'\\033[0m')   \n",
    "print(missing_noun_list)"
   ]
  },
  {
   "cell_type": "markdown",
   "metadata": {},
   "source": [
    "## 5. Feature Engineering : Extracting features from the data"
   ]
  },
  {
   "cell_type": "markdown",
   "metadata": {},
   "source": [
    "*  Score based on sentence similarity(synoyms, Antonyms,Wrong function mapping will be  taken care in this score)\n",
    "*  Score based on counting number of common words, common nouns, Total words and Total different words\n",
    "*  Score reduction based on missing nouns (Topics missed in student answer)\n"
   ]
  },
  {
   "cell_type": "code",
   "execution_count": 21,
   "metadata": {},
   "outputs": [],
   "source": [
    "distinct_nouns_original_count = len(distinct_nouns_original)"
   ]
  },
  {
   "cell_type": "code",
   "execution_count": 22,
   "metadata": {},
   "outputs": [
    {
     "name": "stdout",
     "output_type": "stream",
     "text": [
      "\u001b[1m\n",
      "List of missing nouns\n",
      "\u001b[0m\n",
      "['historiography', 'number', 'meaning', 'move', 'historiography', 'meaning', 'body', 'writing', 'philosophy', 'metalevel', 'description', 'conception', 'world', 'view', 'method', 'presentation', 'question']\n",
      "no_of_missing_nouns: 17\n"
     ]
    }
   ],
   "source": [
    "print('\\033[1m'+\"\\nList of missing nouns\\n\"+'\\033[0m')\n",
    "print(missing_noun_list)\n",
    "missing_nouns_count = len(missing_noun_list)\n",
    "print(f\"no_of_missing_nouns: {len(missing_noun_list)}\")"
   ]
  },
  {
   "cell_type": "code",
   "execution_count": 23,
   "metadata": {},
   "outputs": [
    {
     "name": "stdout",
     "output_type": "stream",
     "text": [
      "[0.9735370368294042, 0.9698571424588274, 0.9582720332402799, 0.9604702690683868, 0.9067023316712794]\n",
      "similarity_score = 0.9537677626536354\n"
     ]
    }
   ],
   "source": [
    "print(similarity_score_list)\n",
    "similarity_score = sum(similarity_score_list)/len(similarity_score_list)\n",
    "print(f\"similarity_score = {similarity_score}\")"
   ]
  },
  {
   "cell_type": "code",
   "execution_count": 24,
   "metadata": {},
   "outputs": [
    {
     "data": {
      "text/plain": [
       "['implications']"
      ]
     },
     "execution_count": 24,
     "metadata": {},
     "output_type": "execute_result"
    }
   ],
   "source": [
    "typos_list"
   ]
  },
  {
   "cell_type": "code",
   "execution_count": 25,
   "metadata": {},
   "outputs": [
    {
     "name": "stdout",
     "output_type": "stream",
     "text": [
      "common_word_count = 24 and total_words_count_student = 43 and % = 0.5581395348837209\n",
      "\n",
      "common_words = ['analysis', 'biographical', 'coherent', 'compete', 'development', 'evidence', 'example', 'focus', 'historian', 'historical', 'history', 'interpretation', 'longer', 'medieval', 'past', 'practice', 'professional', 'rheumatic', 'series', 'short', 'single', 'teach', 'usually', 'work']\n",
      "\n",
      "total_words_student = ['analysis', 'argue', 'biographical', 'coherent', 'collection', 'compete', 'concept', 'create', 'development', 'evidence', 'example', 'focus', 'historian', 'historical', 'history', 'implication', 'interpretation', 'level', 'longer', 'mean', 'medieval', 'metal', 'particular', 'past', 'practice', 'professional', 'refer', 'relate', 'relevant', 'representation', 'rheumatic', 'second', 'series', 'short', 'single', 'story', 'teach', 'transition', 'use', 'usually', 'work', 'worldviews', 'write']\n",
      "\n",
      "missing_words_student = ['body', 'conception', 'debate', 'description', 'firstly', 'historiography', 'meaning', 'metalevel', 'method', 'narrative', 'number', 'philosophy', 'presentation', 'produce', 'question', 'related', 'secondly', 'specific', 'view', 'world', 'writing']\n",
      "\n",
      "total_words_original = ['analysis', 'biographical', 'body', 'coherent', 'compete', 'conception', 'debate', 'description', 'development', 'evidence', 'example', 'firstly', 'focus', 'historian', 'historical', 'historiography', 'history', 'interpretation', 'longer', 'meaning', 'medieval', 'metalevel', 'method', 'narrative', 'number', 'past', 'philosophy', 'practice', 'presentation', 'produce', 'professional', 'question', 'related', 'rheumatic', 'secondly', 'series', 'short', 'single', 'specific', 'teach', 'usually', 'view', 'work', 'world', 'writing']\n",
      "\n",
      "common_word_count = 24\n",
      "total_words_student_count = 43 \n",
      "missing_words_count = 21 \n",
      "total_words_original_count = 45\n"
     ]
    }
   ],
   "source": [
    "print(f\"common_word_count = {common_word_count} and total_words_count_student = {total_words_student_count} and % = {common_word_count_percentage}\")\n",
    "print(f\"\\ncommon_words = {common_words}\\n\")\n",
    "print(f\"total_words_student = {total_words_student}\\n\")\n",
    "print(f\"missing_words_student = {missing_words}\\n\")\n",
    "print(f\"total_words_original = {total_words_original}\\n\")\n",
    "print(f\"common_word_count = {common_word_count}\\ntotal_words_student_count = {total_words_student_count} \\nmissing_words_count = {missing_words_count} \\ntotal_words_original_count = {total_words_original_count}\")"
   ]
  },
  {
   "cell_type": "code",
   "execution_count": 26,
   "metadata": {},
   "outputs": [
    {
     "name": "stdout",
     "output_type": "stream",
     "text": [
      "0.9537677626536354\n"
     ]
    }
   ],
   "source": [
    "print(similarity_score)"
   ]
  },
  {
   "cell_type": "code",
   "execution_count": 27,
   "metadata": {},
   "outputs": [],
   "source": [
    "#Features for model are derived as follows: \n",
    "\n",
    "#Feature 1\n",
    "similarity_score = similarity_score   #considers the presence of synonyms, antonyms and wrong mapping of verbs, adj, adv of corresponding nouns\n",
    "\n",
    "missing_nouns_count                   # total no of missing nouns(distinct missing topics) in student's text\n",
    "distinct_nouns_original_count         # total no of nouns (distinct topics) in original text\n",
    "#Feature 2\n",
    "fraction_of_topics_missed = (missing_nouns_count/distinct_nouns_original_count)\n",
    "\n",
    "missing_words_count                   # total no of missing words(distinct) in student's text (verbs,nouns, adjectives etc)\n",
    "total_words_student_count             # total no of words(distinct) in student's text (excluding stop words)\n",
    "total_words_original_count            # total no of words(distinct) in original text (excluding stop words)\n",
    "#Feature  3\n",
    "fraction_of_new_topics = (total_words_student_count -total_words_original_count + missing_words_count)/ total_words_original_count\n",
    "\n"
   ]
  },
  {
   "cell_type": "markdown",
   "metadata": {},
   "source": [
    "## 6. Model "
   ]
  },
  {
   "cell_type": "markdown",
   "metadata": {},
   "source": [
    "#### Kindly download the training_data.xlsx from the link given in the report and put it in the same folder where this file lies."
   ]
  },
  {
   "cell_type": "code",
   "execution_count": 28,
   "metadata": {},
   "outputs": [],
   "source": [
    "training_data = pd.read_excel(\"training_data.xlsx\")"
   ]
  },
  {
   "cell_type": "code",
   "execution_count": 29,
   "metadata": {},
   "outputs": [
    {
     "data": {
      "text/html": [
       "<div>\n",
       "<style scoped>\n",
       "    .dataframe tbody tr th:only-of-type {\n",
       "        vertical-align: middle;\n",
       "    }\n",
       "\n",
       "    .dataframe tbody tr th {\n",
       "        vertical-align: top;\n",
       "    }\n",
       "\n",
       "    .dataframe thead th {\n",
       "        text-align: right;\n",
       "    }\n",
       "</style>\n",
       "<table border=\"1\" class=\"dataframe\">\n",
       "  <thead>\n",
       "    <tr style=\"text-align: right;\">\n",
       "      <th></th>\n",
       "      <th>Test cases</th>\n",
       "      <th>Teacher_text</th>\n",
       "      <th>Student_text</th>\n",
       "      <th>label</th>\n",
       "      <th>similarity_score</th>\n",
       "      <th>fraction_of_topics_missed</th>\n",
       "      <th>fraction_of_new_topics</th>\n",
       "      <th>original_score</th>\n",
       "      <th>Unnamed: 8</th>\n",
       "      <th>Unnamed: 9</th>\n",
       "      <th>...</th>\n",
       "      <th>Unnamed: 16</th>\n",
       "      <th>Unnamed: 17</th>\n",
       "      <th>Unnamed: 18</th>\n",
       "      <th>Unnamed: 19</th>\n",
       "      <th>Unnamed: 20</th>\n",
       "      <th>Unnamed: 21</th>\n",
       "      <th>Unnamed: 22</th>\n",
       "      <th>Unnamed: 23</th>\n",
       "      <th>Unnamed: 24</th>\n",
       "      <th>Unnamed: 25</th>\n",
       "    </tr>\n",
       "  </thead>\n",
       "  <tbody>\n",
       "    <tr>\n",
       "      <th>0</th>\n",
       "      <td>1</td>\n",
       "      <td>Cells provide structure and support to the bod...</td>\n",
       "      <td>Cells are the basic unit of every organism. Th...</td>\n",
       "      <td>Including Synonyms, antonym or wrong statements</td>\n",
       "      <td>0.944236</td>\n",
       "      <td>0.392857</td>\n",
       "      <td>0.413043</td>\n",
       "      <td>75</td>\n",
       "      <td>Note: Columns E, F, G are filled from the resu...</td>\n",
       "      <td>NaN</td>\n",
       "      <td>...</td>\n",
       "      <td>NaN</td>\n",
       "      <td>NaN</td>\n",
       "      <td>NaN</td>\n",
       "      <td>NaN</td>\n",
       "      <td>NaN</td>\n",
       "      <td>NaN</td>\n",
       "      <td>NaN</td>\n",
       "      <td>NaN</td>\n",
       "      <td>NaN</td>\n",
       "      <td>NaN</td>\n",
       "    </tr>\n",
       "    <tr>\n",
       "      <th>1</th>\n",
       "      <td>2</td>\n",
       "      <td>Cells provide structure and support to the bod...</td>\n",
       "      <td>Cell is the basic unit of a living organism. T...</td>\n",
       "      <td>Less points, But all right</td>\n",
       "      <td>0.953181</td>\n",
       "      <td>0.464286</td>\n",
       "      <td>0.086957</td>\n",
       "      <td>65</td>\n",
       "      <td>NaN</td>\n",
       "      <td>NaN</td>\n",
       "      <td>...</td>\n",
       "      <td>NaN</td>\n",
       "      <td>NaN</td>\n",
       "      <td>NaN</td>\n",
       "      <td>NaN</td>\n",
       "      <td>NaN</td>\n",
       "      <td>NaN</td>\n",
       "      <td>NaN</td>\n",
       "      <td>NaN</td>\n",
       "      <td>NaN</td>\n",
       "      <td>NaN</td>\n",
       "    </tr>\n",
       "    <tr>\n",
       "      <th>2</th>\n",
       "      <td>3</td>\n",
       "      <td>Cells provide structure and support to the bod...</td>\n",
       "      <td>The body of an organism is supported and struc...</td>\n",
       "      <td>wrong mapping of functions but includes all.</td>\n",
       "      <td>0.930503</td>\n",
       "      <td>0.357143</td>\n",
       "      <td>0.304348</td>\n",
       "      <td>70</td>\n",
       "      <td>NaN</td>\n",
       "      <td>NaN</td>\n",
       "      <td>...</td>\n",
       "      <td>NaN</td>\n",
       "      <td>NaN</td>\n",
       "      <td>NaN</td>\n",
       "      <td>NaN</td>\n",
       "      <td>NaN</td>\n",
       "      <td>NaN</td>\n",
       "      <td>NaN</td>\n",
       "      <td>NaN</td>\n",
       "      <td>NaN</td>\n",
       "      <td>NaN</td>\n",
       "    </tr>\n",
       "    <tr>\n",
       "      <th>3</th>\n",
       "      <td>4</td>\n",
       "      <td>Cells provide structure and support to the bod...</td>\n",
       "      <td>Cells provide structure and support to the bod...</td>\n",
       "      <td>including all points. With correct mapping of...</td>\n",
       "      <td>0.982915</td>\n",
       "      <td>0.178571</td>\n",
       "      <td>0.152174</td>\n",
       "      <td>98</td>\n",
       "      <td>NaN</td>\n",
       "      <td>NaN</td>\n",
       "      <td>...</td>\n",
       "      <td>NaN</td>\n",
       "      <td>NaN</td>\n",
       "      <td>NaN</td>\n",
       "      <td>NaN</td>\n",
       "      <td>NaN</td>\n",
       "      <td>NaN</td>\n",
       "      <td>NaN</td>\n",
       "      <td>NaN</td>\n",
       "      <td>NaN</td>\n",
       "      <td>NaN</td>\n",
       "    </tr>\n",
       "    <tr>\n",
       "      <th>4</th>\n",
       "      <td>5</td>\n",
       "      <td>Cells provide structure and support to the bod...</td>\n",
       "      <td>The interior of the cell  is organized into va...</td>\n",
       "      <td>Various Synonyms. Same text.</td>\n",
       "      <td>0.942905</td>\n",
       "      <td>0.285714</td>\n",
       "      <td>0.217391</td>\n",
       "      <td>80</td>\n",
       "      <td>NaN</td>\n",
       "      <td>NaN</td>\n",
       "      <td>...</td>\n",
       "      <td>NaN</td>\n",
       "      <td>NaN</td>\n",
       "      <td>NaN</td>\n",
       "      <td>NaN</td>\n",
       "      <td>NaN</td>\n",
       "      <td>NaN</td>\n",
       "      <td>NaN</td>\n",
       "      <td>NaN</td>\n",
       "      <td>NaN</td>\n",
       "      <td>NaN</td>\n",
       "    </tr>\n",
       "    <tr>\n",
       "      <th>5</th>\n",
       "      <td>6</td>\n",
       "      <td>Cells provide structure and support to the bod...</td>\n",
       "      <td>Cells provide structure and support to the bod...</td>\n",
       "      <td>Misspelled words and antonyms</td>\n",
       "      <td>0.975938</td>\n",
       "      <td>0.285714</td>\n",
       "      <td>0.217391</td>\n",
       "      <td>95</td>\n",
       "      <td>NaN</td>\n",
       "      <td>NaN</td>\n",
       "      <td>...</td>\n",
       "      <td>NaN</td>\n",
       "      <td>NaN</td>\n",
       "      <td>NaN</td>\n",
       "      <td>NaN</td>\n",
       "      <td>NaN</td>\n",
       "      <td>NaN</td>\n",
       "      <td>NaN</td>\n",
       "      <td>NaN</td>\n",
       "      <td>NaN</td>\n",
       "      <td>NaN</td>\n",
       "    </tr>\n",
       "    <tr>\n",
       "      <th>6</th>\n",
       "      <td>7</td>\n",
       "      <td>Cells provide structure and support to the bod...</td>\n",
       "      <td>Cells offer shape and help to the structure of...</td>\n",
       "      <td>Using more pronouns</td>\n",
       "      <td>0.924222</td>\n",
       "      <td>0.357143</td>\n",
       "      <td>0.326087</td>\n",
       "      <td>80</td>\n",
       "      <td>NaN</td>\n",
       "      <td>NaN</td>\n",
       "      <td>...</td>\n",
       "      <td>NaN</td>\n",
       "      <td>NaN</td>\n",
       "      <td>NaN</td>\n",
       "      <td>NaN</td>\n",
       "      <td>NaN</td>\n",
       "      <td>NaN</td>\n",
       "      <td>NaN</td>\n",
       "      <td>NaN</td>\n",
       "      <td>NaN</td>\n",
       "      <td>NaN</td>\n",
       "    </tr>\n",
       "    <tr>\n",
       "      <th>7</th>\n",
       "      <td>8</td>\n",
       "      <td>Cells provide structure and support to the bod...</td>\n",
       "      <td>The body of an organism is supported and struc...</td>\n",
       "      <td>More points with unnecessary points. [Deductio...</td>\n",
       "      <td>0.943895</td>\n",
       "      <td>0.214286</td>\n",
       "      <td>0.847826</td>\n",
       "      <td>70</td>\n",
       "      <td>NaN</td>\n",
       "      <td>NaN</td>\n",
       "      <td>...</td>\n",
       "      <td>NaN</td>\n",
       "      <td>NaN</td>\n",
       "      <td>NaN</td>\n",
       "      <td>NaN</td>\n",
       "      <td>NaN</td>\n",
       "      <td>NaN</td>\n",
       "      <td>NaN</td>\n",
       "      <td>NaN</td>\n",
       "      <td>NaN</td>\n",
       "      <td>NaN</td>\n",
       "    </tr>\n",
       "    <tr>\n",
       "      <th>8</th>\n",
       "      <td>9</td>\n",
       "      <td>Cells provide structure and support to the bod...</td>\n",
       "      <td>Every human has cells in their body. Cell is t...</td>\n",
       "      <td>Writing facts but irrelevant to the question.</td>\n",
       "      <td>0.926133</td>\n",
       "      <td>0.714286</td>\n",
       "      <td>0.434783</td>\n",
       "      <td>50</td>\n",
       "      <td>NaN</td>\n",
       "      <td>NaN</td>\n",
       "      <td>...</td>\n",
       "      <td>NaN</td>\n",
       "      <td>NaN</td>\n",
       "      <td>NaN</td>\n",
       "      <td>NaN</td>\n",
       "      <td>NaN</td>\n",
       "      <td>NaN</td>\n",
       "      <td>NaN</td>\n",
       "      <td>NaN</td>\n",
       "      <td>NaN</td>\n",
       "      <td>NaN</td>\n",
       "    </tr>\n",
       "    <tr>\n",
       "      <th>9</th>\n",
       "      <td>10</td>\n",
       "      <td>Cells provide structure and support to the bod...</td>\n",
       "      <td>The body of an organism is supported and struc...</td>\n",
       "      <td>No antonyms, includes all points with differen...</td>\n",
       "      <td>0.952364</td>\n",
       "      <td>0.250000</td>\n",
       "      <td>0.326087</td>\n",
       "      <td>95</td>\n",
       "      <td>NaN</td>\n",
       "      <td>NaN</td>\n",
       "      <td>...</td>\n",
       "      <td>NaN</td>\n",
       "      <td>NaN</td>\n",
       "      <td>NaN</td>\n",
       "      <td>NaN</td>\n",
       "      <td>NaN</td>\n",
       "      <td>NaN</td>\n",
       "      <td>NaN</td>\n",
       "      <td>NaN</td>\n",
       "      <td>NaN</td>\n",
       "      <td>NaN</td>\n",
       "    </tr>\n",
       "  </tbody>\n",
       "</table>\n",
       "<p>10 rows × 26 columns</p>\n",
       "</div>"
      ],
      "text/plain": [
       "   Test cases                                       Teacher_text  \\\n",
       "0           1  Cells provide structure and support to the bod...   \n",
       "1           2  Cells provide structure and support to the bod...   \n",
       "2           3  Cells provide structure and support to the bod...   \n",
       "3           4  Cells provide structure and support to the bod...   \n",
       "4           5  Cells provide structure and support to the bod...   \n",
       "5           6  Cells provide structure and support to the bod...   \n",
       "6           7  Cells provide structure and support to the bod...   \n",
       "7           8  Cells provide structure and support to the bod...   \n",
       "8           9  Cells provide structure and support to the bod...   \n",
       "9          10  Cells provide structure and support to the bod...   \n",
       "\n",
       "                                        Student_text  \\\n",
       "0  Cells are the basic unit of every organism. Th...   \n",
       "1  Cell is the basic unit of a living organism. T...   \n",
       "2  The body of an organism is supported and struc...   \n",
       "3  Cells provide structure and support to the bod...   \n",
       "4  The interior of the cell  is organized into va...   \n",
       "5  Cells provide structure and support to the bod...   \n",
       "6  Cells offer shape and help to the structure of...   \n",
       "7  The body of an organism is supported and struc...   \n",
       "8  Every human has cells in their body. Cell is t...   \n",
       "9  The body of an organism is supported and struc...   \n",
       "\n",
       "                                              label   similarity_score  \\\n",
       "0    Including Synonyms, antonym or wrong statements          0.944236   \n",
       "1                         Less points, But all right          0.953181   \n",
       "2       wrong mapping of functions but includes all.          0.930503   \n",
       "3   including all points. With correct mapping of...          0.982915   \n",
       "4                       Various Synonyms. Same text.          0.942905   \n",
       "5                      Misspelled words and antonyms          0.975938   \n",
       "6                                Using more pronouns          0.924222   \n",
       "7  More points with unnecessary points. [Deductio...          0.943895   \n",
       "8      Writing facts but irrelevant to the question.          0.926133   \n",
       "9  No antonyms, includes all points with differen...          0.952364   \n",
       "\n",
       "   fraction_of_topics_missed  fraction_of_new_topics  original_score  \\\n",
       "0                   0.392857                0.413043              75   \n",
       "1                   0.464286                0.086957              65   \n",
       "2                   0.357143                0.304348              70   \n",
       "3                   0.178571                0.152174              98   \n",
       "4                   0.285714                0.217391              80   \n",
       "5                   0.285714                0.217391              95   \n",
       "6                   0.357143                0.326087              80   \n",
       "7                   0.214286                0.847826              70   \n",
       "8                   0.714286                0.434783              50   \n",
       "9                   0.250000                0.326087              95   \n",
       "\n",
       "                                          Unnamed: 8  Unnamed: 9  ...  \\\n",
       "0  Note: Columns E, F, G are filled from the resu...         NaN  ...   \n",
       "1                                                NaN         NaN  ...   \n",
       "2                                                NaN         NaN  ...   \n",
       "3                                                NaN         NaN  ...   \n",
       "4                                                NaN         NaN  ...   \n",
       "5                                                NaN         NaN  ...   \n",
       "6                                                NaN         NaN  ...   \n",
       "7                                                NaN         NaN  ...   \n",
       "8                                                NaN         NaN  ...   \n",
       "9                                                NaN         NaN  ...   \n",
       "\n",
       "   Unnamed: 16  Unnamed: 17  Unnamed: 18  Unnamed: 19  Unnamed: 20  \\\n",
       "0          NaN          NaN          NaN          NaN          NaN   \n",
       "1          NaN          NaN          NaN          NaN          NaN   \n",
       "2          NaN          NaN          NaN          NaN          NaN   \n",
       "3          NaN          NaN          NaN          NaN          NaN   \n",
       "4          NaN          NaN          NaN          NaN          NaN   \n",
       "5          NaN          NaN          NaN          NaN          NaN   \n",
       "6          NaN          NaN          NaN          NaN          NaN   \n",
       "7          NaN          NaN          NaN          NaN          NaN   \n",
       "8          NaN          NaN          NaN          NaN          NaN   \n",
       "9          NaN          NaN          NaN          NaN          NaN   \n",
       "\n",
       "   Unnamed: 21  Unnamed: 22  Unnamed: 23  Unnamed: 24  Unnamed: 25  \n",
       "0          NaN          NaN          NaN          NaN          NaN  \n",
       "1          NaN          NaN          NaN          NaN          NaN  \n",
       "2          NaN          NaN          NaN          NaN          NaN  \n",
       "3          NaN          NaN          NaN          NaN          NaN  \n",
       "4          NaN          NaN          NaN          NaN          NaN  \n",
       "5          NaN          NaN          NaN          NaN          NaN  \n",
       "6          NaN          NaN          NaN          NaN          NaN  \n",
       "7          NaN          NaN          NaN          NaN          NaN  \n",
       "8          NaN          NaN          NaN          NaN          NaN  \n",
       "9          NaN          NaN          NaN          NaN          NaN  \n",
       "\n",
       "[10 rows x 26 columns]"
      ]
     },
     "execution_count": 29,
     "metadata": {},
     "output_type": "execute_result"
    }
   ],
   "source": [
    "training_data #All the features are derived individually by going through the same procedure and are entered manually in the file"
   ]
  },
  {
   "cell_type": "code",
   "execution_count": 31,
   "metadata": {},
   "outputs": [
    {
     "name": "stdout",
     "output_type": "stream",
     "text": [
      "Coefficients:  [[169.05178094 -69.15099897 -20.09644363]]\n",
      "Intercept: [-51.51129328]\n"
     ]
    }
   ],
   "source": [
    "#fitting a multiple linear regression model\n",
    "import matplotlib.pyplot as plt\n",
    "import numpy as np\n",
    "from sklearn import datasets, linear_model, metrics\n",
    "\n",
    "# defining feature matrix(X) and response vector(y)\n",
    "X = training_data[[\"similarity_score\",\"fraction_of_topics_missed\",\"fraction_of_new_topics\" ]]\n",
    "y = training_data[[\"original_score\"]]\n",
    "\n",
    "# # splitting X and y into training and testing sets\n",
    "# from sklearn.model_selection import train\n",
    "# X_train, y_train = train(X, y)\n",
    "\n",
    "# create linear regression object\n",
    "reg = linear_model.LinearRegression()\n",
    "\n",
    "# train the model using the training sets\n",
    "reg.fit(X, y)\n",
    "\n",
    "# regression coefficients\n",
    "print('Coefficients: ', reg.coef_)\n",
    "coefficients = reg.coef_\n",
    "#regression intercept\n",
    "print(\"Intercept:\" , reg.intercept_ )\n",
    "Intercept = reg.intercept_\n",
    "\n",
    "# variance score: 1 means perfect prediction\n",
    "# print('Variance score: {}'.format(reg.score(X_test, y_test)))\n",
    "\n",
    "# plot for residual error\n",
    "\n",
    "## setting plot style\n",
    "# plt.style.use('fivethirtyeight')\n",
    "\n",
    "# ## plotting residual errors in training data\n",
    "# plt.scatter(reg.predict(X_train), reg.predict(X_train) - y_train,color = \"green\", s = 10, label = 'Train data')\n",
    "\n",
    "# ## plotting residual errors in test data\n",
    "# plt.scatter(reg.predict(X_test), reg.predict(X_test) - y_test,color = \"blue\", s = 10, label = 'Test data')\n",
    "\n",
    "# ## plotting line for zero residual error\n",
    "# plt.hlines(y = 0, xmin = 0, xmax = 50, linewidth = 2)\n",
    "\n",
    "# ## plotting legend\n",
    "# plt.legend(loc = 'upper right')\n",
    "\n",
    "# ## plot title\n",
    "# plt.title(\"Residual errors\")\n",
    "\n",
    "# ## method call for showing the plot\n",
    "# plt.show()\n"
   ]
  },
  {
   "cell_type": "markdown",
   "metadata": {},
   "source": [
    "## 7. Prediction"
   ]
  },
  {
   "cell_type": "code",
   "execution_count": 32,
   "metadata": {},
   "outputs": [],
   "source": [
    "# model\n",
    "predicted_score =  -51.51129328 + (169.05178094 * similarity_score) + (-69.15099897*fraction_of_topics_missed) +(-20.09644363* fraction_of_new_topics)\n",
    "\n",
    "if predicted_score>100: #For the cases where no topics are missing and less synonyms have been used.\n",
    "    predicted_score=100"
   ]
  },
  {
   "cell_type": "code",
   "execution_count": 33,
   "metadata": {},
   "outputs": [
    {
     "name": "stdout",
     "output_type": "stream",
     "text": [
      "60.70288801187889\n"
     ]
    }
   ],
   "source": [
    "#here's the predicted score of given test data in the beginning\n",
    "print(predicted_score)"
   ]
  },
  {
   "cell_type": "code",
   "execution_count": null,
   "metadata": {},
   "outputs": [],
   "source": []
  }
 ],
 "metadata": {
  "kernelspec": {
   "display_name": "Python 3",
   "language": "python",
   "name": "python3"
  },
  "language_info": {
   "codemirror_mode": {
    "name": "ipython",
    "version": 3
   },
   "file_extension": ".py",
   "mimetype": "text/x-python",
   "name": "python",
   "nbconvert_exporter": "python",
   "pygments_lexer": "ipython3",
   "version": "3.8.8"
  },
  "toc": {
   "nav_menu": {},
   "number_sections": true,
   "sideBar": true,
   "skip_h1_title": false,
   "toc_cell": false,
   "toc_position": {},
   "toc_section_display": "block",
   "toc_window_display": false
  },
  "varInspector": {
   "cols": {
    "lenName": 16,
    "lenType": 16,
    "lenVar": 40
   },
   "kernels_config": {
    "python": {
     "delete_cmd_postfix": "",
     "delete_cmd_prefix": "del ",
     "library": "var_list.py",
     "varRefreshCmd": "print(var_dic_list())"
    },
    "r": {
     "delete_cmd_postfix": ") ",
     "delete_cmd_prefix": "rm(",
     "library": "var_list.r",
     "varRefreshCmd": "cat(var_dic_list()) "
    }
   },
   "types_to_exclude": [
    "module",
    "function",
    "builtin_function_or_method",
    "instance",
    "_Feature"
   ],
   "window_display": false
  }
 },
 "nbformat": 4,
 "nbformat_minor": 2
}
